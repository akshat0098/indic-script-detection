{
  "cells": [
    {
      "cell_type": "code",
      "execution_count": null,
      "metadata": {
        "id": "2ImE5FIJ6gcI"
      },
      "outputs": [],
      "source": [
        "import pandas as pd\n",
        "import tensorflow as tf\n",
        "import numpy as np\n",
        "import matplotlib.pyplot as plt\n",
        "from skimage.filters import sobel\n",
        "from google.colab.patches import cv2_imshow\n",
        "import cv2\n",
        "from skimage.feature import greycomatrix,greycoprops\n",
        "import os"
      ]
    },
    {
      "cell_type": "code",
      "source": [
        "#my\n",
        "import numpy as np\n",
        "import pandas as pd\n",
        "import matplotlib.pyplot as plt\n",
        "from matplotlib import style\n",
        "import seaborn as sns"
      ],
      "metadata": {
        "id": "oOEBhZ5oAQpL"
      },
      "execution_count": null,
      "outputs": []
    },
    {
      "cell_type": "code",
      "execution_count": null,
      "metadata": {
        "id": "Rbqwm71X0kyB"
      },
      "outputs": [],
      "source": [
        "from google.colab import drive\n",
        "drive.mount('/content/gdrive')"
      ]
    },
    {
      "cell_type": "code",
      "execution_count": null,
      "metadata": {
        "id": "R7Ypk-Vq1hfy"
      },
      "outputs": [],
      "source": [
        "!pip install unrar\n"
      ]
    },
    {
      "cell_type": "code",
      "source": [
        ""
      ],
      "metadata": {
        "id": "bOcSzj63kbMr"
      },
      "execution_count": null,
      "outputs": []
    },
    {
      "cell_type": "code",
      "execution_count": null,
      "metadata": {
        "id": "4SmybAfN0l1V"
      },
      "outputs": [],
      "source": [
        "!unrar  x  gdrive/My\\ Drive/DATA-FOR-ML/indic-dev.rar"
      ]
    },
    {
      "cell_type": "code",
      "execution_count": null,
      "metadata": {
        "id": "LT_R_ZWk0tlo"
      },
      "outputs": [],
      "source": [
        "bengali_text_images = os.listdir(\"indic-dev/Bengali/\")\n",
        "Devanagiri_text_images = os.listdir(\"indic-dev/Devanagiri/\")\n",
        "English_text_images = os.listdir(\"indic-dev/English/\")\n",
        "Gujarathi_text_images = os.listdir(\"indic-dev/Gujarathi/\")\n",
        "Kannada_text_images = os.listdir(\"indic-dev/Kannada/\")\n",
        "Malayalam_text_images = os.listdir(\"indic-dev/Malayalam/\")\n",
        "Odiya_text_images = os.listdir(\"indic-dev/Odiya/\")\n",
        "Punjabi_text_images = os.listdir(\"indic-dev/Punjabi/\")\n",
        "Tamil_text_images = os.listdir(\"indic-dev/Tamil/\")\n",
        "Telugu_text_images = os.listdir(\"indic-dev/Telugu/\")\n",
        "Urdu_text_images = os.listdir(\"indic-dev/Urdu/\")\n"
      ]
    },
    {
      "cell_type": "code",
      "execution_count": null,
      "metadata": {
        "id": "gfZpXxkZ3NTb"
      },
      "outputs": [],
      "source": [
        "languages = os.listdir('indic-dev/')\n",
        "languages "
      ]
    },
    {
      "cell_type": "code",
      "execution_count": null,
      "metadata": {
        "id": "32QeOn3b1qZq"
      },
      "outputs": [],
      "source": [
        "SIZE= 32 *2\n",
        "\n",
        "def data_to_numpy(language,text_images):\n",
        "    data_images = []\n",
        "    data_labels = []\n",
        "   \n",
        "    path = \"indic-dev/{}\".format(language)\n",
        "    label = language\n",
        "    if path:\n",
        "        c = 0\n",
        "        for i in text_images :\n",
        "            img_path = path + '/'+ i\n",
        "            c = c+1\n",
        "            img = cv2.imread(img_path, 0) #Reading color images\n",
        "            #print(img)\n",
        "            img = cv2.resize(img, (SIZE, SIZE)) #Resize images\n",
        "                \n",
        "            data_images.append(img)\n",
        "            data_labels.append(label)\n",
        "            if c== 10000:\n",
        "                break\n",
        "    # changing to numpy array        \n",
        "\n",
        "    data_images = np.array(data_images)\n",
        "    data_labels = np.array(data_labels)\n",
        "\n",
        "    return (data_images,data_labels)"
      ]
    },
    {
      "cell_type": "code",
      "execution_count": null,
      "metadata": {
        "id": "IhZaTjJV3WV1"
      },
      "outputs": [],
      "source": [
        "Bengali_images,Bengali_labels= data_to_numpy('Bengali',bengali_text_images)\n",
        "Devanagiri_images,Devanagiri_labels= data_to_numpy('Devanagiri',Devanagiri_text_images)\n",
        "English_images,English_labels= data_to_numpy('English',English_text_images)\n",
        "Gujarathi_images,Gujarathi_labels= data_to_numpy('Gujarathi',Gujarathi_text_images)\n",
        "Kannada_images,Kannada_labels= data_to_numpy('Kannada',Kannada_text_images)\n",
        "Odiya_images,Odiya_labels= data_to_numpy('Odiya',Odiya_text_images)\n",
        "Punjabi_images,Punjabi_labels= data_to_numpy('Punjabi',Punjabi_text_images)\n",
        "Tamil_images,Tamil_labels= data_to_numpy('Tamil',Tamil_text_images)\n",
        "Telugu_images,Telugu_labels= data_to_numpy('Telugu',Telugu_text_images)\n",
        "Urdu_images,Urdu_labels= data_to_numpy('Urdu',Urdu_text_images)"
      ]
    },
    {
      "cell_type": "code",
      "execution_count": null,
      "metadata": {
        "id": "IplZcnao4QRs"
      },
      "outputs": [],
      "source": [
        "English_images.shape"
      ]
    },
    {
      "cell_type": "code",
      "source": [
        "Urdu_images.shape"
      ],
      "metadata": {
        "id": "vi83T67WYWj_"
      },
      "execution_count": null,
      "outputs": []
    },
    {
      "cell_type": "code",
      "source": [
        "Bengali_images.shape"
      ],
      "metadata": {
        "id": "zjWPA5DWYWmq"
      },
      "execution_count": null,
      "outputs": []
    },
    {
      "cell_type": "code",
      "source": [
        "Punjabi_images.shape"
      ],
      "metadata": {
        "id": "a0G0D_fDYWo_"
      },
      "execution_count": null,
      "outputs": []
    },
    {
      "cell_type": "code",
      "source": [
        "Telugu_images.shape"
      ],
      "metadata": {
        "id": "feQdMftgYgCt"
      },
      "execution_count": null,
      "outputs": []
    },
    {
      "cell_type": "code",
      "source": [
        "Gujarathi_images.shape"
      ],
      "metadata": {
        "id": "0IfN6w2jYgFA"
      },
      "execution_count": null,
      "outputs": []
    },
    {
      "cell_type": "code",
      "source": [
        "cv2_imshow(Gujarathi_images[2])"
      ],
      "metadata": {
        "id": "2XYaPSeItM3Q"
      },
      "execution_count": null,
      "outputs": []
    },
    {
      "cell_type": "code",
      "source": [
        "cv2_imshow(Bengali_images[1])"
      ],
      "metadata": {
        "id": "p0_UvX_iTEFx"
      },
      "execution_count": null,
      "outputs": []
    },
    {
      "cell_type": "code",
      "execution_count": null,
      "metadata": {
        "id": "pMi2BKMy4cKx"
      },
      "outputs": [],
      "source": [
        "\n",
        "data_images = np.concatenate((Bengali_images,Devanagiri_images,English_images,Gujarathi_images,Kannada_images,Odiya_images,Punjabi_images,Tamil_images,Telugu_images,\n",
        "                              Urdu_images),axis=0  )\n",
        "data_labels = np.concatenate((Bengali_labels,Devanagiri_labels,English_labels,Gujarathi_labels,Kannada_labels,Odiya_labels,Punjabi_labels,Tamil_labels,Telugu_labels,\n",
        "                              Urdu_labels),axis=0  )"
      ]
    },
    {
      "cell_type": "code",
      "execution_count": null,
      "metadata": {
        "id": "5BED5_kG4j9z"
      },
      "outputs": [],
      "source": [
        "X = data_images\n",
        "y = data_labels\n"
      ]
    },
    {
      "cell_type": "code",
      "source": [
        "#x1=np.concatenate((Bengali_images),axis=0)\n"
      ],
      "metadata": {
        "id": "uIri7mE927h0"
      },
      "execution_count": null,
      "outputs": []
    },
    {
      "cell_type": "code",
      "source": [
        "#x1"
      ],
      "metadata": {
        "id": "ueBNk0ES5TJ6"
      },
      "execution_count": null,
      "outputs": []
    },
    {
      "cell_type": "code",
      "source": [
        "#y1=Bengali_labels"
      ],
      "metadata": {
        "id": "WXQPPGyU49y8"
      },
      "execution_count": null,
      "outputs": []
    },
    {
      "cell_type": "code",
      "source": [
        ""
      ],
      "metadata": {
        "id": "aTnU1ivD5OvZ"
      },
      "execution_count": null,
      "outputs": []
    },
    {
      "cell_type": "code",
      "execution_count": null,
      "metadata": {
        "id": "X_a_RMh_Zokp"
      },
      "outputs": [],
      "source": [
        "# Label encoding \n",
        "from sklearn.preprocessing import LabelEncoder\n",
        "labelencoder = LabelEncoder()\n",
        "y = labelencoder.fit_transform(y)\n"
      ]
    },
    {
      "cell_type": "code",
      "source": [
        "y"
      ],
      "metadata": {
        "colab": {
          "base_uri": "https://localhost:8080/"
        },
        "id": "iA6RUzZ9YohG",
        "outputId": "1e303053-1a0e-4de6-80f0-f548c10cf010"
      },
      "execution_count": null,
      "outputs": [
        {
          "output_type": "execute_result",
          "data": {
            "text/plain": [
              "array([0, 0, 0, ..., 9, 9, 9])"
            ]
          },
          "metadata": {},
          "execution_count": 24
        }
      ]
    },
    {
      "cell_type": "code",
      "execution_count": null,
      "metadata": {
        "id": "swZT6D2obDeq"
      },
      "outputs": [],
      "source": [
        "# LANGUAGES ARE ENCODED TO NUMBERS WITH LANGUAGE INDEXS"
      ]
    },
    {
      "cell_type": "code",
      "execution_count": null,
      "metadata": {
        "id": "aLIBBc9sYlmu"
      },
      "outputs": [],
      "source": [
        "from sklearn.model_selection import train_test_split\n",
        "X_train,X_test,y_train,y_test = train_test_split(X,y,test_size=0.3,random_state=43) "
      ]
    },
    {
      "cell_type": "code",
      "source": [
        "X_test,y_test"
      ],
      "metadata": {
        "colab": {
          "base_uri": "https://localhost:8080/"
        },
        "id": "tyGsv9te2vtz",
        "outputId": "8072a08f-52b4-4a88-a52e-218fcf26a52f"
      },
      "execution_count": null,
      "outputs": [
        {
          "output_type": "execute_result",
          "data": {
            "text/plain": [
              "(array([[[  0,   0,   0, ..., 255, 247,   0],\n",
              "         [  0,  73,  76, ..., 255, 249,  50],\n",
              "         [  0, 205, 211, ..., 255, 253, 139],\n",
              "         ...,\n",
              "         [  0,   0,   0, ..., 223,   0,   0],\n",
              "         [  0,   0,   0, ..., 126,   0,   0],\n",
              "         [  0,   0,   0, ...,  72,   0,   0]],\n",
              " \n",
              "        [[  0,   0,   0, ...,   0,   0,   0],\n",
              "         [  0,   0,   0, ..., 112,   0,   0],\n",
              "         [  0,   0,   0, ..., 255,   0,   0],\n",
              "         ...,\n",
              "         [  0,   0,   0, ...,   0,   0,   0],\n",
              "         [  0,   0,   0, ...,   0,   0,   0],\n",
              "         [  0,   0,   0, ...,   0,   0,   0]],\n",
              " \n",
              "        [[  0,   0,   0, ...,   0,   0,   0],\n",
              "         [  0,   0,   0, ...,   0,   0,   0],\n",
              "         [  0,   0,   0, ...,   0,   0,   0],\n",
              "         ...,\n",
              "         [  0,   0,   0, ...,   0,   0,   0],\n",
              "         [  0,   0,   0, ...,   0,   0,   0],\n",
              "         [  0,   0,   0, ...,   0,   0,   0]],\n",
              " \n",
              "        ...,\n",
              " \n",
              "        [[  0,   0,   0, ...,   0,   0,   0],\n",
              "         [  0,   0,   0, ...,   0,   0,   0],\n",
              "         [  0,   0,   0, ...,   0,   0,   0],\n",
              "         ...,\n",
              "         [  0,   0,   0, ...,   0,   0,   0],\n",
              "         [  0,   0,   0, ...,   0,   0,   0],\n",
              "         [  0,   0,   0, ...,   0,   0,   0]],\n",
              " \n",
              "        [[  0,   0,   0, ...,   0,   0,   0],\n",
              "         [  0,   0,   0, ...,   0,   0,   0],\n",
              "         [  0,   0,   0, ...,   0,   0,   0],\n",
              "         ...,\n",
              "         [  0,   0,   0, ...,   0,   0,   0],\n",
              "         [  0,   0,   0, ...,   0,   0,   0],\n",
              "         [  0,   0,   0, ...,   0,   0,   0]],\n",
              " \n",
              "        [[  0,   0,   0, ...,   0,   0,   0],\n",
              "         [  0,   0,   0, ...,   0,   0,   0],\n",
              "         [  0,   0,   0, ...,   0,   0,   0],\n",
              "         ...,\n",
              "         [  0,   0,   0, ..., 114,   0,   0],\n",
              "         [  0,   0,   0, ...,  43,   0,   0],\n",
              "         [  0,   0,   0, ...,   0,   0,   0]]], dtype=uint8),\n",
              " array([1, 0, 8, ..., 6, 9, 0]))"
            ]
          },
          "metadata": {},
          "execution_count": 27
        }
      ]
    },
    {
      "cell_type": "code",
      "source": [
        "X_train"
      ],
      "metadata": {
        "id": "lH75YVQTYriU",
        "colab": {
          "base_uri": "https://localhost:8080/"
        },
        "outputId": "0e7ec2cb-b37c-4597-ce8a-8a6e380de931"
      },
      "execution_count": null,
      "outputs": [
        {
          "output_type": "execute_result",
          "data": {
            "text/plain": [
              "array([[[  0,   0,   0, ...,   0,   0,   0],\n",
              "        [  0,   0,   0, ...,   0,   0,   0],\n",
              "        [  0,   0,   0, ...,   0,   0,   0],\n",
              "        ...,\n",
              "        [  0,   0,   0, ..., 242, 197,   0],\n",
              "        [  0,   0,   0, ..., 255, 100,   0],\n",
              "        [  0,   0,   0, ..., 255,   0,   0]],\n",
              "\n",
              "       [[  0,   0,   0, ...,   0,   0,   0],\n",
              "        [  0,   0,   0, ...,   0,   0,   0],\n",
              "        [  0,   0,   0, ...,   0,   0,   0],\n",
              "        ...,\n",
              "        [  0,   0,   0, ..., 255,  12,   0],\n",
              "        [  0,   0,   0, ..., 255,  12,   0],\n",
              "        [  0,   0,   0, ..., 255,  12,   0]],\n",
              "\n",
              "       [[  0,   0,   0, ...,   0,   0,   0],\n",
              "        [  0,   0,   0, ...,   0,   0,   0],\n",
              "        [  0,   0,   0, ...,   0,   0,   0],\n",
              "        ...,\n",
              "        [  0,   0,   0, ...,   0,   0,   0],\n",
              "        [  0,   0,   0, ...,   0,   0,   0],\n",
              "        [  0,   0,   0, ...,   0,   0,   0]],\n",
              "\n",
              "       ...,\n",
              "\n",
              "       [[  0,   0,   0, ...,   0,   0,   0],\n",
              "        [  0,   0,   0, ...,   0,   0,  94],\n",
              "        [  0,   0,   0, ...,   0,   0, 241],\n",
              "        ...,\n",
              "        [  0,   0,   0, ...,   0,   0,   0],\n",
              "        [  0,   0,   0, ...,   0,   0,   0],\n",
              "        [  0,   0,   0, ...,   0,   0,   0]],\n",
              "\n",
              "       [[  0,   0,   0, ...,   0,   0,   0],\n",
              "        [  0,   0,   0, ...,   0,   0,   0],\n",
              "        [  0,   0,   0, ...,   0,   0,   0],\n",
              "        ...,\n",
              "        [  0,   0,   0, ...,   0,   0,   0],\n",
              "        [  0,   0,   0, ...,   0,   0,   0],\n",
              "        [  0,   0,   0, ...,   0,   0,   0]],\n",
              "\n",
              "       [[  0,   0,   0, ...,   6, 255,  50],\n",
              "        [ 12,  64,  64, ...,  68, 255, 101],\n",
              "        [ 37, 191, 191, ..., 193, 255, 204],\n",
              "        ...,\n",
              "        [  0,   0,   0, ...,   0,   0,   0],\n",
              "        [  0,   0,   0, ...,   0,   0,   0],\n",
              "        [  0,   0,   0, ...,   0,   0,   0]]], dtype=uint8)"
            ]
          },
          "metadata": {},
          "execution_count": 28
        }
      ]
    },
    {
      "cell_type": "code",
      "source": [
        "y_train "
      ],
      "metadata": {
        "id": "z8di0LMyYs9L",
        "colab": {
          "base_uri": "https://localhost:8080/"
        },
        "outputId": "35103800-4459-4d9c-f189-9937242a4747"
      },
      "execution_count": null,
      "outputs": [
        {
          "output_type": "execute_result",
          "data": {
            "text/plain": [
              "array([6, 1, 1, ..., 4, 1, 1])"
            ]
          },
          "metadata": {},
          "execution_count": 29
        }
      ]
    },
    {
      "cell_type": "code",
      "execution_count": null,
      "metadata": {
        "id": "0dNh1Cob7lY1"
      },
      "outputs": [],
      "source": [
        "# NORMALIZING THE PIXELS\n",
        "# Normalize pixel values to be between 0 and 1\n",
        "X_train , X_test = X_train / 255.0, X_test / 255.0"
      ]
    },
    {
      "cell_type": "code",
      "execution_count": null,
      "metadata": {
        "id": "Z4mx6ZIFNLqd"
      },
      "outputs": [],
      "source": [
        "# div the data in test and validation\n",
        "# test_size is the validation size\n",
        "X_test,x_val,y_test,y_val= train_test_split(X,y,test_size=.3,random_state=43)"
      ]
    },
    {
      "cell_type": "code",
      "execution_count": null,
      "metadata": {
        "id": "3FmNnuZv6BN2",
        "colab": {
          "base_uri": "https://localhost:8080/"
        },
        "outputId": "d18be937-6741-4b7b-8ddd-55d3b65efe6c"
      },
      "outputs": [
        {
          "output_type": "execute_result",
          "data": {
            "text/plain": [
              "array([6, 1, 1, ..., 4, 1, 1])"
            ]
          },
          "metadata": {},
          "execution_count": 32
        }
      ],
      "source": [
        "y_train"
      ]
    },
    {
      "cell_type": "code",
      "execution_count": null,
      "metadata": {
        "id": "B87je9_scMRB",
        "colab": {
          "base_uri": "https://localhost:8080/"
        },
        "outputId": "07b2f361-6ed6-4407-a364-bbfd71fef38d"
      },
      "outputs": [
        {
          "output_type": "execute_result",
          "data": {
            "text/plain": [
              "array([6, 1, 1, ..., 4, 1, 1])"
            ]
          },
          "metadata": {},
          "execution_count": 33
        }
      ],
      "source": [
        "y_test"
      ]
    },
    {
      "cell_type": "code",
      "execution_count": null,
      "metadata": {
        "id": "i9JdXpQ2cOam",
        "colab": {
          "base_uri": "https://localhost:8080/"
        },
        "outputId": "40472f62-c5ab-4ba7-df72-8143691959f2"
      },
      "outputs": [
        {
          "output_type": "execute_result",
          "data": {
            "text/plain": [
              "array([[[0.        , 0.        , 0.        , ..., 0.        ,\n",
              "         0.        , 0.        ],\n",
              "        [0.        , 0.        , 0.        , ..., 0.        ,\n",
              "         0.        , 0.        ],\n",
              "        [0.        , 0.        , 0.        , ..., 0.        ,\n",
              "         0.        , 0.        ],\n",
              "        ...,\n",
              "        [0.        , 0.        , 0.        , ..., 0.94901961,\n",
              "         0.77254902, 0.        ],\n",
              "        [0.        , 0.        , 0.        , ..., 1.        ,\n",
              "         0.39215686, 0.        ],\n",
              "        [0.        , 0.        , 0.        , ..., 1.        ,\n",
              "         0.        , 0.        ]],\n",
              "\n",
              "       [[0.        , 0.        , 0.        , ..., 0.        ,\n",
              "         0.        , 0.        ],\n",
              "        [0.        , 0.        , 0.        , ..., 0.        ,\n",
              "         0.        , 0.        ],\n",
              "        [0.        , 0.        , 0.        , ..., 0.        ,\n",
              "         0.        , 0.        ],\n",
              "        ...,\n",
              "        [0.        , 0.        , 0.        , ..., 1.        ,\n",
              "         0.04705882, 0.        ],\n",
              "        [0.        , 0.        , 0.        , ..., 1.        ,\n",
              "         0.04705882, 0.        ],\n",
              "        [0.        , 0.        , 0.        , ..., 1.        ,\n",
              "         0.04705882, 0.        ]],\n",
              "\n",
              "       [[0.        , 0.        , 0.        , ..., 0.        ,\n",
              "         0.        , 0.        ],\n",
              "        [0.        , 0.        , 0.        , ..., 0.        ,\n",
              "         0.        , 0.        ],\n",
              "        [0.        , 0.        , 0.        , ..., 0.        ,\n",
              "         0.        , 0.        ],\n",
              "        ...,\n",
              "        [0.        , 0.        , 0.        , ..., 0.        ,\n",
              "         0.        , 0.        ],\n",
              "        [0.        , 0.        , 0.        , ..., 0.        ,\n",
              "         0.        , 0.        ],\n",
              "        [0.        , 0.        , 0.        , ..., 0.        ,\n",
              "         0.        , 0.        ]],\n",
              "\n",
              "       ...,\n",
              "\n",
              "       [[0.        , 0.        , 0.        , ..., 0.        ,\n",
              "         0.        , 0.        ],\n",
              "        [0.        , 0.        , 0.        , ..., 0.        ,\n",
              "         0.        , 0.36862745],\n",
              "        [0.        , 0.        , 0.        , ..., 0.        ,\n",
              "         0.        , 0.94509804],\n",
              "        ...,\n",
              "        [0.        , 0.        , 0.        , ..., 0.        ,\n",
              "         0.        , 0.        ],\n",
              "        [0.        , 0.        , 0.        , ..., 0.        ,\n",
              "         0.        , 0.        ],\n",
              "        [0.        , 0.        , 0.        , ..., 0.        ,\n",
              "         0.        , 0.        ]],\n",
              "\n",
              "       [[0.        , 0.        , 0.        , ..., 0.        ,\n",
              "         0.        , 0.        ],\n",
              "        [0.        , 0.        , 0.        , ..., 0.        ,\n",
              "         0.        , 0.        ],\n",
              "        [0.        , 0.        , 0.        , ..., 0.        ,\n",
              "         0.        , 0.        ],\n",
              "        ...,\n",
              "        [0.        , 0.        , 0.        , ..., 0.        ,\n",
              "         0.        , 0.        ],\n",
              "        [0.        , 0.        , 0.        , ..., 0.        ,\n",
              "         0.        , 0.        ],\n",
              "        [0.        , 0.        , 0.        , ..., 0.        ,\n",
              "         0.        , 0.        ]],\n",
              "\n",
              "       [[0.        , 0.        , 0.        , ..., 0.02352941,\n",
              "         1.        , 0.19607843],\n",
              "        [0.04705882, 0.25098039, 0.25098039, ..., 0.26666667,\n",
              "         1.        , 0.39607843],\n",
              "        [0.14509804, 0.74901961, 0.74901961, ..., 0.75686275,\n",
              "         1.        , 0.8       ],\n",
              "        ...,\n",
              "        [0.        , 0.        , 0.        , ..., 0.        ,\n",
              "         0.        , 0.        ],\n",
              "        [0.        , 0.        , 0.        , ..., 0.        ,\n",
              "         0.        , 0.        ],\n",
              "        [0.        , 0.        , 0.        , ..., 0.        ,\n",
              "         0.        , 0.        ]]])"
            ]
          },
          "metadata": {},
          "execution_count": 34
        }
      ],
      "source": [
        "X_train"
      ]
    },
    {
      "cell_type": "code",
      "execution_count": null,
      "metadata": {
        "id": "zyaJj6D9cOe9",
        "colab": {
          "base_uri": "https://localhost:8080/"
        },
        "outputId": "708a902c-2c90-4399-df28-aae08f3586d7"
      },
      "outputs": [
        {
          "output_type": "execute_result",
          "data": {
            "text/plain": [
              "70000"
            ]
          },
          "metadata": {},
          "execution_count": 35
        }
      ],
      "source": [
        "len(X_test)"
      ]
    },
    {
      "cell_type": "code",
      "execution_count": null,
      "metadata": {
        "id": "c0aIRMDjNjQq",
        "colab": {
          "base_uri": "https://localhost:8080/"
        },
        "outputId": "3a129fd2-7485-4ded-d706-f1f7533608e9"
      },
      "outputs": [
        {
          "output_type": "execute_result",
          "data": {
            "text/plain": [
              "70000"
            ]
          },
          "metadata": {},
          "execution_count": 36
        }
      ],
      "source": [
        "len(X_train)"
      ]
    },
    {
      "cell_type": "markdown",
      "metadata": {
        "id": "riTddt0v69vn"
      },
      "source": [
        "# MODEL ACCHITECTURE"
      ]
    },
    {
      "cell_type": "code",
      "execution_count": null,
      "metadata": {
        "id": "_NkpLyko_YMw"
      },
      "outputs": [],
      "source": [
        "from tensorflow import keras\n",
        "# CNN MODELING"
      ]
    },
    {
      "cell_type": "code",
      "execution_count": null,
      "metadata": {
        "id": "YWVuDqJfMquZ"
      },
      "outputs": [],
      "source": [
        "def create_model():\n",
        "  model = keras.Sequential()\n",
        "  #CNN\n",
        "  model.add(keras.layers.Conv2D(32, (3,3), activation='relu', input_shape=(32*2,32*2,1),name='INPUT-CNN-LAYER' ))\n",
        "  model.add(keras.layers.MaxPooling2D((2, 2),name='Pooling-layer')) #Polling kayers\n",
        "  model.add(keras.layers.Conv2D(64, (3, 3), activation='relu',name='Conv-layer' ))\n",
        "  model.add(keras.layers.MaxPooling2D((2, 2),name='2ND-POOLING-LAYER'))\n",
        "  model.add(keras.layers.Conv2D(64, (3, 3), activation='relu',name='2-CNN-LAYER-LAYER'))\n",
        "  model.add(keras.layers.MaxPooling2D((2, 2),name='3ND-POOLING-LAYER'))\n",
        "  model.add(keras.layers.Conv2D(32, (2, 2), activation='relu',name='3-CNN-LAYER-LAYER'))\n",
        "  model.add(keras.layers.MaxPooling2D((2, 2),name='4TH-POOLING-LAYER'))\n",
        "  model.add(keras.layers.Conv2D(16, (2, 2), activation='relu',name='4th-CNN-LAYER-LAYER'))\n",
        "  model.add(keras.layers.Flatten())\n",
        "  #dense layers\n",
        "  model.add(keras.layers.Dense(25*25,activation='tanh'))\n",
        "  model.add(keras.layers.Dense(64, activation='tanh'))\n",
        "  model.add(keras.layers.Dense(10,activation='softmax'))\n",
        "  return model "
      ]
    },
    {
      "cell_type": "code",
      "execution_count": null,
      "metadata": {
        "id": "_KB1iFih69Pf"
      },
      "outputs": [],
      "source": [
        "model = create_model()\n"
      ]
    },
    {
      "cell_type": "code",
      "execution_count": null,
      "metadata": {
        "id": "0FF25HE-6HZh",
        "colab": {
          "base_uri": "https://localhost:8080/"
        },
        "outputId": "861116db-9424-4c94-b9a2-661fe84a90e1"
      },
      "outputs": [
        {
          "output_type": "stream",
          "name": "stdout",
          "text": [
            "Model: \"sequential\"\n",
            "_________________________________________________________________\n",
            " Layer (type)                Output Shape              Param #   \n",
            "=================================================================\n",
            " INPUT-CNN-LAYER (Conv2D)    (None, 62, 62, 32)        320       \n",
            "                                                                 \n",
            " Pooling-layer (MaxPooling2D  (None, 31, 31, 32)       0         \n",
            " )                                                               \n",
            "                                                                 \n",
            " Conv-layer (Conv2D)         (None, 29, 29, 64)        18496     \n",
            "                                                                 \n",
            " 2ND-POOLING-LAYER (MaxPooli  (None, 14, 14, 64)       0         \n",
            " ng2D)                                                           \n",
            "                                                                 \n",
            " 2-CNN-LAYER-LAYER (Conv2D)  (None, 12, 12, 64)        36928     \n",
            "                                                                 \n",
            " 3ND-POOLING-LAYER (MaxPooli  (None, 6, 6, 64)         0         \n",
            " ng2D)                                                           \n",
            "                                                                 \n",
            " 3-CNN-LAYER-LAYER (Conv2D)  (None, 5, 5, 32)          8224      \n",
            "                                                                 \n",
            " 4TH-POOLING-LAYER (MaxPooli  (None, 2, 2, 32)         0         \n",
            " ng2D)                                                           \n",
            "                                                                 \n",
            " 4th-CNN-LAYER-LAYER (Conv2D  (None, 1, 1, 16)         2064      \n",
            " )                                                               \n",
            "                                                                 \n",
            " flatten (Flatten)           (None, 16)                0         \n",
            "                                                                 \n",
            " dense (Dense)               (None, 625)               10625     \n",
            "                                                                 \n",
            " dense_1 (Dense)             (None, 64)                40064     \n",
            "                                                                 \n",
            " dense_2 (Dense)             (None, 10)                650       \n",
            "                                                                 \n",
            "=================================================================\n",
            "Total params: 117,371\n",
            "Trainable params: 117,371\n",
            "Non-trainable params: 0\n",
            "_________________________________________________________________\n"
          ]
        }
      ],
      "source": [
        "model.summary()"
      ]
    },
    {
      "cell_type": "code",
      "execution_count": null,
      "metadata": {
        "id": "Hptracr1CZaP"
      },
      "outputs": [],
      "source": [
        "model.compile(optimizer='adam',loss = tf.keras.losses.SparseCategoricalCrossentropy(from_logits=True), metrics=['accuracy'])"
      ]
    },
    {
      "cell_type": "markdown",
      "source": [
        ""
      ],
      "metadata": {
        "id": "G9bfvL6_ct3j"
      }
    },
    {
      "cell_type": "code",
      "source": [
        ""
      ],
      "metadata": {
        "id": "vTyf4vCUzFQw"
      },
      "execution_count": null,
      "outputs": []
    },
    {
      "cell_type": "code",
      "execution_count": null,
      "metadata": {
        "id": "KWXAzi4Y6H8Q",
        "colab": {
          "base_uri": "https://localhost:8080/"
        },
        "outputId": "d94dcab1-615c-4fc2-bfa0-fdf78b0def3c"
      },
      "outputs": [
        {
          "output_type": "stream",
          "name": "stdout",
          "text": [
            "Epoch 1/25\n"
          ]
        },
        {
          "output_type": "stream",
          "name": "stderr",
          "text": [
            "/usr/local/lib/python3.7/dist-packages/tensorflow/python/util/dispatch.py:1082: UserWarning: \"`sparse_categorical_crossentropy` received `from_logits=True`, but the `output` argument was produced by a sigmoid or softmax activation and thus does not represent logits. Was this intended?\"\n",
            "  return dispatch_target(*args, **kwargs)\n"
          ]
        },
        {
          "output_type": "stream",
          "name": "stdout",
          "text": [
            "2188/2188 [==============================] - 35s 9ms/step - loss: 0.6289 - accuracy: 0.7745 - val_loss: 1.0045 - val_accuracy: 0.7184\n",
            "Epoch 2/25\n",
            "2188/2188 [==============================] - 24s 11ms/step - loss: 0.2378 - accuracy: 0.9193 - val_loss: 1.0477 - val_accuracy: 0.7432\n",
            "Epoch 3/25\n",
            "2188/2188 [==============================] - 24s 11ms/step - loss: 0.1550 - accuracy: 0.9492 - val_loss: 0.4063 - val_accuracy: 0.8761\n",
            "Epoch 4/25\n",
            "2188/2188 [==============================] - 20s 9ms/step - loss: 0.1186 - accuracy: 0.9611 - val_loss: 0.3793 - val_accuracy: 0.8937\n",
            "Epoch 5/25\n",
            "2188/2188 [==============================] - 20s 9ms/step - loss: 0.0950 - accuracy: 0.9697 - val_loss: 0.4222 - val_accuracy: 0.8857\n",
            "Epoch 6/25\n",
            "2188/2188 [==============================] - 20s 9ms/step - loss: 0.0864 - accuracy: 0.9719 - val_loss: 0.3237 - val_accuracy: 0.9051\n",
            "Epoch 7/25\n",
            "2188/2188 [==============================] - 20s 9ms/step - loss: 0.0761 - accuracy: 0.9754 - val_loss: 0.4062 - val_accuracy: 0.8875\n",
            "Epoch 8/25\n",
            "2188/2188 [==============================] - 24s 11ms/step - loss: 0.0724 - accuracy: 0.9767 - val_loss: 0.5173 - val_accuracy: 0.8691\n",
            "Epoch 9/25\n",
            "2188/2188 [==============================] - 25s 11ms/step - loss: 0.0675 - accuracy: 0.9789 - val_loss: 0.4021 - val_accuracy: 0.8956\n",
            "Epoch 10/25\n",
            "2188/2188 [==============================] - 20s 9ms/step - loss: 0.0636 - accuracy: 0.9798 - val_loss: 0.2343 - val_accuracy: 0.9381\n",
            "Epoch 11/25\n",
            "2188/2188 [==============================] - 20s 9ms/step - loss: 0.0617 - accuracy: 0.9800 - val_loss: 0.3448 - val_accuracy: 0.9078\n",
            "Epoch 12/25\n",
            "2188/2188 [==============================] - 20s 9ms/step - loss: 0.0598 - accuracy: 0.9811 - val_loss: 0.2038 - val_accuracy: 0.9433\n",
            "Epoch 13/25\n",
            "2188/2188 [==============================] - 24s 11ms/step - loss: 0.0555 - accuracy: 0.9826 - val_loss: 0.1734 - val_accuracy: 0.9492\n",
            "Epoch 14/25\n",
            "2188/2188 [==============================] - 20s 9ms/step - loss: 0.0534 - accuracy: 0.9833 - val_loss: 0.4134 - val_accuracy: 0.8949\n",
            "Epoch 15/25\n",
            "2188/2188 [==============================] - 24s 11ms/step - loss: 0.0489 - accuracy: 0.9843 - val_loss: 0.2050 - val_accuracy: 0.9431\n",
            "Epoch 16/25\n",
            "2188/2188 [==============================] - 20s 9ms/step - loss: 0.0487 - accuracy: 0.9846 - val_loss: 0.3484 - val_accuracy: 0.9113\n",
            "Epoch 17/25\n",
            "2188/2188 [==============================] - 19s 9ms/step - loss: 0.0470 - accuracy: 0.9858 - val_loss: 0.2876 - val_accuracy: 0.9281\n",
            "Epoch 18/25\n",
            "2188/2188 [==============================] - 20s 9ms/step - loss: 0.0447 - accuracy: 0.9860 - val_loss: 0.3699 - val_accuracy: 0.9049\n",
            "Epoch 19/25\n",
            "2188/2188 [==============================] - 20s 9ms/step - loss: 0.0442 - accuracy: 0.9863 - val_loss: 0.2458 - val_accuracy: 0.9356\n",
            "Epoch 20/25\n",
            "2188/2188 [==============================] - 20s 9ms/step - loss: 0.0398 - accuracy: 0.9879 - val_loss: 0.2739 - val_accuracy: 0.9216\n",
            "Epoch 21/25\n",
            "2188/2188 [==============================] - 24s 11ms/step - loss: 0.0416 - accuracy: 0.9869 - val_loss: 0.1700 - val_accuracy: 0.9547\n",
            "Epoch 22/25\n",
            "2188/2188 [==============================] - 24s 11ms/step - loss: 0.0371 - accuracy: 0.9889 - val_loss: 0.5963 - val_accuracy: 0.8565\n",
            "Epoch 23/25\n",
            "2188/2188 [==============================] - 20s 9ms/step - loss: 0.0357 - accuracy: 0.9890 - val_loss: 0.1276 - val_accuracy: 0.9631\n",
            "Epoch 24/25\n",
            "2188/2188 [==============================] - 24s 11ms/step - loss: 0.0368 - accuracy: 0.9884 - val_loss: 0.2788 - val_accuracy: 0.9257\n",
            "Epoch 25/25\n",
            "2188/2188 [==============================] - 24s 11ms/step - loss: 0.0349 - accuracy: 0.9889 - val_loss: 0.2923 - val_accuracy: 0.9232\n"
          ]
        }
      ],
      "source": [
        "history=model.fit(X_train, y_train, epochs=25,validation_data=(X_test,  y_test)) "
      ]
    },
    {
      "cell_type": "code",
      "source": [
        "#my\n",
        "#history = model.fit(X_train, y_train, epochs=50, batch_size=32, validation_data=(X_test, y_test))"
      ],
      "metadata": {
        "id": "DBPghVZJCA5a"
      },
      "execution_count": null,
      "outputs": []
    },
    {
      "cell_type": "code",
      "source": [
        "#my\n",
        "#H=model.fit(X_train, y_train, epochs=10,validation_data=(X_test,  y_test)) "
      ],
      "metadata": {
        "id": "XZmryfOUHZwm"
      },
      "execution_count": null,
      "outputs": []
    },
    {
      "cell_type": "code",
      "source": [
        "#my\n",
        "plt.plot(history.history['accuracy'])"
      ],
      "metadata": {
        "colab": {
          "base_uri": "https://localhost:8080/",
          "height": 282
        },
        "id": "npUpOmh7G5-l",
        "outputId": "76f157d7-e645-4d36-e031-674e79be94f2"
      },
      "execution_count": null,
      "outputs": [
        {
          "output_type": "execute_result",
          "data": {
            "text/plain": [
              "[<matplotlib.lines.Line2D at 0x7eff8e3c0e50>]"
            ]
          },
          "metadata": {},
          "execution_count": 45
        },
        {
          "output_type": "display_data",
          "data": {
            "text/plain": [
              "<Figure size 432x288 with 1 Axes>"
            ],
            "image/png": "[encoded data removed]"
          },
          "metadata": {
            "needs_background": "light"
          }
        }
      ]
    },
    {
      "cell_type": "code",
      "source": [
        "#my\n",
        "plt.plot(history.history['val_accuracy'])"
      ],
      "metadata": {
        "colab": {
          "base_uri": "https://localhost:8080/",
          "height": 282
        },
        "id": "hUgbmvSxHJh8",
        "outputId": "0d576961-8942-435f-8676-d445870181f4"
      },
      "execution_count": null,
      "outputs": [
        {
          "output_type": "execute_result",
          "data": {
            "text/plain": [
              "[<matplotlib.lines.Line2D at 0x7eff8e3e9950>]"
            ]
          },
          "metadata": {},
          "execution_count": 46
        },
        {
          "output_type": "display_data",
          "data": {
            "text/plain": [
              "<Figure size 432x288 with 1 Axes>"
            ],
            "image/png": "[encoded data removed]"
          },
          "metadata": {
            "needs_background": "light"
          }
        }
      ]
    },
    {
      "cell_type": "code",
      "source": [
        "#my\n",
        "plt.plot(history.history['loss'])\n",
        "plt.plot(history.history['val_loss'])\n",
        "plt.title('model loss')\n",
        "plt.ylabel('loss')\n",
        "plt.xlabel('epoch')\n",
        "plt.legend(['train', 'test'], loc='upper left')\n",
        "plt.show()"
      ],
      "metadata": {
        "colab": {
          "base_uri": "https://localhost:8080/",
          "height": 295
        },
        "id": "DSHN0Tt8PCsR",
        "outputId": "f4bc2b72-ae4b-4009-fadb-b5634146d0e5"
      },
      "execution_count": null,
      "outputs": [
        {
          "output_type": "display_data",
          "data": {
            "text/plain": [
              "<Figure size 432x288 with 1 Axes>"
            ],
            "image/png": "[encoded data removed]"
          },
          "metadata": {
            "needs_background": "light"
          }
        }
      ]
    },
    {
      "cell_type": "code",
      "source": [
        "#my\n",
        "# plot the training loss and accuracy\n",
        "plt.style.use(\"ggplot\")\n",
        "plt.figure()\n",
        "plt.plot( history.history[\"loss\"], label=\"train_loss\")\n",
        "plt.plot( history.history[\"val_loss\"], label=\"val_loss\")\n",
        "plt.plot( history.history[\"accuracy\"], label=\"train_accuracy\")\n",
        "plt.plot( history.history[\"val_accuracy\"], label=\"val_accuracy\")\n",
        "plt.title(\"Training Loss and Accuracy\")\n",
        "plt.xlabel(\"Epoch #\")\n",
        "plt.ylabel(\"Loss/Accuracy\")\n",
        "plt.legend()\n",
        "plt.show()"
      ],
      "metadata": {
        "id": "PcT-JUGM7Rj8",
        "colab": {
          "base_uri": "https://localhost:8080/",
          "height": 299
        },
        "outputId": "58923e08-4d4c-49e0-929b-2e7609a6fda7"
      },
      "execution_count": null,
      "outputs": [
        {
          "output_type": "display_data",
          "data": {
            "text/plain": [
              "<Figure size 432x288 with 1 Axes>"
            ],
            "image/png": "[encoded data removed]"
          },
          "metadata": {}
        }
      ]
    },
    {
      "cell_type": "code",
      "execution_count": null,
      "metadata": {
        "id": "P6-gkdUFSnpt",
        "colab": {
          "base_uri": "https://localhost:8080/"
        },
        "outputId": "e4f1c226-1dc9-4915-c28f-b6e0ea83a189"
      },
      "outputs": [
        {
          "output_type": "stream",
          "name": "stdout",
          "text": [
            "2188/2188 - 6s - loss: 0.2923 - accuracy: 0.9232 - 6s/epoch - 3ms/step\n",
            "0.9231714010238647\n"
          ]
        }
      ],
      "source": [
        "test_loss, test_acc = model.evaluate(X_test, y_test, verbose=2)\n",
        "print(test_acc)"
      ]
    },
    {
      "cell_type": "code",
      "execution_count": null,
      "metadata": {
        "id": "t8Dr9HrGBToH"
      },
      "outputs": [],
      "source": [
        "# SAVING THE MODEL"
      ]
    },
    {
      "cell_type": "code",
      "execution_count": null,
      "metadata": {
        "id": "D7fz-Z2rNEUq"
      },
      "outputs": [],
      "source": [
        "model.save(\"indic_script_detection_model.h5\")  # we can save the model and reload it at anytime in the future\n"
      ]
    },
    {
      "cell_type": "code",
      "source": [
        ""
      ],
      "metadata": {
        "id": "VAr6AlFVrMdJ"
      },
      "execution_count": null,
      "outputs": []
    },
    {
      "cell_type": "code",
      "execution_count": null,
      "metadata": {
        "id": "bEb2oylGAIp_"
      },
      "outputs": [],
      "source": [
        "# Loading the model\n",
        "new_model = tf.keras.models.load_model('indic_script_detection_model.h5')"
      ]
    },
    {
      "cell_type": "code",
      "execution_count": null,
      "metadata": {
        "id": "uQods7ICAIxe",
        "colab": {
          "base_uri": "https://localhost:8080/"
        },
        "outputId": "bb5f9885-2c47-4091-c821-a5cb82990db7"
      },
      "outputs": [
        {
          "output_type": "stream",
          "name": "stdout",
          "text": [
            "Model: \"sequential\"\n",
            "_________________________________________________________________\n",
            " Layer (type)                Output Shape              Param #   \n",
            "=================================================================\n",
            " INPUT-CNN-LAYER (Conv2D)    (None, 62, 62, 32)        320       \n",
            "                                                                 \n",
            " Pooling-layer (MaxPooling2D  (None, 31, 31, 32)       0         \n",
            " )                                                               \n",
            "                                                                 \n",
            " Conv-layer (Conv2D)         (None, 29, 29, 64)        18496     \n",
            "                                                                 \n",
            " 2ND-POOLING-LAYER (MaxPooli  (None, 14, 14, 64)       0         \n",
            " ng2D)                                                           \n",
            "                                                                 \n",
            " 2-CNN-LAYER-LAYER (Conv2D)  (None, 12, 12, 64)        36928     \n",
            "                                                                 \n",
            " 3ND-POOLING-LAYER (MaxPooli  (None, 6, 6, 64)         0         \n",
            " ng2D)                                                           \n",
            "                                                                 \n",
            " 3-CNN-LAYER-LAYER (Conv2D)  (None, 5, 5, 32)          8224      \n",
            "                                                                 \n",
            " 4TH-POOLING-LAYER (MaxPooli  (None, 2, 2, 32)         0         \n",
            " ng2D)                                                           \n",
            "                                                                 \n",
            " 4th-CNN-LAYER-LAYER (Conv2D  (None, 1, 1, 16)         2064      \n",
            " )                                                               \n",
            "                                                                 \n",
            " flatten (Flatten)           (None, 16)                0         \n",
            "                                                                 \n",
            " dense (Dense)               (None, 625)               10625     \n",
            "                                                                 \n",
            " dense_1 (Dense)             (None, 64)                40064     \n",
            "                                                                 \n",
            " dense_2 (Dense)             (None, 10)                650       \n",
            "                                                                 \n",
            "=================================================================\n",
            "Total params: 117,371\n",
            "Trainable params: 117,371\n",
            "Non-trainable params: 0\n",
            "_________________________________________________________________\n"
          ]
        }
      ],
      "source": [
        "# Check its architecture\n",
        "model.summary()"
      ]
    },
    {
      "cell_type": "code",
      "execution_count": null,
      "metadata": {
        "id": "3QDn2g1nMKDd",
        "colab": {
          "base_uri": "https://localhost:8080/"
        },
        "outputId": "ae4000e7-f2fe-464a-fc77-2df266df8982"
      },
      "outputs": [
        {
          "output_type": "execute_result",
          "data": {
            "text/plain": [
              "array([[0., 0., 0., ..., 0., 0., 0.],\n",
              "       [0., 0., 0., ..., 0., 0., 0.],\n",
              "       [0., 0., 0., ..., 0., 0., 0.],\n",
              "       ...,\n",
              "       [0., 0., 0., ..., 0., 0., 0.],\n",
              "       [0., 0., 0., ..., 0., 0., 0.],\n",
              "       [0., 0., 0., ..., 0., 0., 0.]])"
            ]
          },
          "metadata": {},
          "execution_count": 54
        }
      ],
      "source": [
        " X_train[5]"
      ]
    },
    {
      "cell_type": "markdown",
      "source": [
        "# Making model predict"
      ],
      "metadata": {
        "id": "a6A77p4NsK5n"
      }
    },
    {
      "cell_type": "code",
      "execution_count": null,
      "metadata": {
        "id": "nChQMStqMKIL",
        "colab": {
          "base_uri": "https://localhost:8080/",
          "height": 98
        },
        "outputId": "c79dae0f-afdd-43a9-8fbc-e16bc75543a7"
      },
      "outputs": [
        {
          "output_type": "display_data",
          "data": {
            "text/plain": [
              "<PIL.Image.Image image mode=L size=64x64 at 0x7EFF8ED36C10>"
            ],
            "image/png": "[encoded data removed]"
          },
          "metadata": {}
        },
        {
          "output_type": "stream",
          "name": "stdout",
          "text": [
            "7\n"
          ]
        }
      ],
      "source": [
        "from google.colab.patches import cv2_imshow\n",
        "cv2_imshow(X_train[5]*255)\n",
        "print(y_train[5])"
      ]
    },
    {
      "cell_type": "code",
      "execution_count": null,
      "metadata": {
        "id": "Y-yBaFhcMKLD",
        "colab": {
          "base_uri": "https://localhost:8080/",
          "height": 98
        },
        "outputId": "904e5de0-55d9-48e6-f878-212bb0fe2221"
      },
      "outputs": [
        {
          "output_type": "display_data",
          "data": {
            "text/plain": [
              "<PIL.Image.Image image mode=L size=64x64 at 0x7EFF8ED36B90>"
            ],
            "image/png": "[encoded data removed]"
          },
          "metadata": {}
        },
        {
          "output_type": "stream",
          "name": "stdout",
          "text": [
            "8\n"
          ]
        }
      ],
      "source": [
        "cv2_imshow(X_train[45]*255)\n",
        "print(y_train[45])"
      ]
    },
    {
      "cell_type": "code",
      "source": [
        ""
      ],
      "metadata": {
        "id": "Z63z9aWs2oeV"
      },
      "execution_count": null,
      "outputs": []
    },
    {
      "cell_type": "code",
      "source": [
        "model.predict(X_train[:5])"
      ],
      "metadata": {
        "colab": {
          "base_uri": "https://localhost:8080/"
        },
        "id": "fRrUzY91vnGs",
        "outputId": "85bac37a-938c-4b04-9775-460c3229e89c"
      },
      "execution_count": null,
      "outputs": [
        {
          "output_type": "execute_result",
          "data": {
            "text/plain": [
              "array([[5.59627224e-05, 1.59695034e-03, 5.91013394e-03, 6.73543836e-04,\n",
              "        7.20987009e-05, 2.67399937e-05, 9.91211712e-01, 4.32959961e-04,\n",
              "        1.98266698e-05, 1.08591252e-07],\n",
              "       [2.28256467e-04, 9.98632967e-01, 8.73377871e-07, 7.80581249e-05,\n",
              "        9.70939098e-08, 3.47158493e-06, 1.05488079e-03, 1.96887541e-07,\n",
              "        1.13220857e-07, 1.11594807e-06],\n",
              "       [3.63898842e-04, 9.98695552e-01, 6.79340474e-07, 1.00648220e-04,\n",
              "        7.06109731e-08, 2.41568750e-06, 8.33030383e-04, 2.91297908e-07,\n",
              "        1.15179404e-07, 3.31644242e-06],\n",
              "       [2.30604105e-08, 2.39053975e-06, 7.52815595e-06, 4.54684450e-05,\n",
              "        2.10464932e-05, 4.90479260e-06, 1.40157468e-07, 3.53184669e-06,\n",
              "        1.87280111e-05, 9.99896288e-01],\n",
              "       [6.81701025e-08, 1.09318773e-06, 5.15919419e-06, 6.37571429e-06,\n",
              "        5.54965663e-05, 2.80434460e-06, 2.21410005e-07, 2.31679260e-05,\n",
              "        1.89691291e-05, 9.99886632e-01]], dtype=float32)"
            ]
          },
          "metadata": {},
          "execution_count": 57
        }
      ]
    },
    {
      "cell_type": "code",
      "execution_count": null,
      "metadata": {
        "id": "WVbDc6CeMKNg",
        "colab": {
          "base_uri": "https://localhost:8080/"
        },
        "outputId": "5467342b-c265-44cd-a502-2ddd057dd603"
      },
      "outputs": [
        {
          "output_type": "execute_result",
          "data": {
            "text/plain": [
              "array([6, 1, 1, 9, 9])"
            ]
          },
          "metadata": {},
          "execution_count": 58
        }
      ],
      "source": [
        "y_train[:5]"
      ]
    },
    {
      "cell_type": "code",
      "execution_count": null,
      "metadata": {
        "id": "JG9w77nYMKQf"
      },
      "outputs": [],
      "source": [
        ""
      ]
    },
    {
      "cell_type": "code",
      "execution_count": null,
      "metadata": {
        "id": "EXNWjloyBbv0"
      },
      "outputs": [],
      "source": [
        "import tensorflow as tf \n",
        "from tensorflow import keras \n",
        "from tensorflow.keras import layers"
      ]
    },
    {
      "cell_type": "code",
      "execution_count": null,
      "metadata": {
        "id": "cfm42xixR2qr"
      },
      "outputs": [],
      "source": [
        ""
      ]
    },
    {
      "cell_type": "code",
      "execution_count": null,
      "metadata": {
        "id": "hWufjUiiCNgS",
        "colab": {
          "base_uri": "https://localhost:8080/"
        },
        "outputId": "6cb3832e-2515-4b59-b369-be0822f71e06"
      },
      "outputs": [
        {
          "output_type": "execute_result",
          "data": {
            "text/plain": [
              "(64, 64)"
            ]
          },
          "metadata": {},
          "execution_count": 60
        }
      ],
      "source": [
        "X_train[1].shape"
      ]
    },
    {
      "cell_type": "markdown",
      "metadata": {
        "id": "teyVjCcHAgFb"
      },
      "source": [
        "# ANN APPROCH with glsm"
      ]
    },
    {
      "cell_type": "code",
      "execution_count": null,
      "metadata": {
        "id": "zHFvliw8B6cY",
        "colab": {
          "base_uri": "https://localhost:8080/",
          "height": 381
        },
        "outputId": "c24e8e95-abe3-4507-e7d5-72ad13766653"
      },
      "outputs": [
        {
          "output_type": "error",
          "ename": "ResourceExhaustedError",
          "evalue": "ignored",
          "traceback": [
            "\u001b[0;31m---------------------------------------------------------------------------\u001b[0m",
            "\u001b[0;31mResourceExhaustedError\u001b[0m                    Traceback (most recent call last)",
            "\u001b[0;32m<ipython-input-61-40e767d6d68d>\u001b[0m in \u001b[0;36m<module>\u001b[0;34m()\u001b[0m\n\u001b[1;32m     22\u001b[0m       \u001b[0;31m#),\u001b[0m\u001b[0;34m\u001b[0m\u001b[0;34m\u001b[0m\u001b[0;34m\u001b[0m\u001b[0m\n\u001b[1;32m     23\u001b[0m       \u001b[0mkeras\u001b[0m\u001b[0;34m.\u001b[0m\u001b[0mlayers\u001b[0m\u001b[0;34m.\u001b[0m\u001b[0mDense\u001b[0m\u001b[0;34m(\u001b[0m\u001b[0;36m25\u001b[0m\u001b[0;34m*\u001b[0m\u001b[0;36m25\u001b[0m\u001b[0;34m,\u001b[0m\u001b[0mactivation\u001b[0m\u001b[0;34m=\u001b[0m\u001b[0;34m'tanh'\u001b[0m\u001b[0;34m)\u001b[0m\u001b[0;34m,\u001b[0m\u001b[0;34m\u001b[0m\u001b[0;34m\u001b[0m\u001b[0m\n\u001b[0;32m---> 24\u001b[0;31m       \u001b[0mkeras\u001b[0m\u001b[0;34m.\u001b[0m\u001b[0mlayers\u001b[0m\u001b[0;34m.\u001b[0m\u001b[0mDense\u001b[0m\u001b[0;34m(\u001b[0m\u001b[0;36m10\u001b[0m\u001b[0;34m,\u001b[0m\u001b[0mactivation\u001b[0m\u001b[0;34m=\u001b[0m\u001b[0;34m'softmax'\u001b[0m\u001b[0;34m)\u001b[0m\u001b[0;34m\u001b[0m\u001b[0;34m\u001b[0m\u001b[0m\n\u001b[0m\u001b[1;32m     25\u001b[0m \u001b[0;34m\u001b[0m\u001b[0m\n\u001b[1;32m     26\u001b[0m ])\n",
            "\u001b[0;32m/usr/local/lib/python3.7/dist-packages/tensorflow/python/training/tracking/base.py\u001b[0m in \u001b[0;36m_method_wrapper\u001b[0;34m(self, *args, **kwargs)\u001b[0m\n\u001b[1;32m    627\u001b[0m     \u001b[0mself\u001b[0m\u001b[0;34m.\u001b[0m\u001b[0m_self_setattr_tracking\u001b[0m \u001b[0;34m=\u001b[0m \u001b[0;32mFalse\u001b[0m  \u001b[0;31m# pylint: disable=protected-access\u001b[0m\u001b[0;34m\u001b[0m\u001b[0;34m\u001b[0m\u001b[0m\n\u001b[1;32m    628\u001b[0m     \u001b[0;32mtry\u001b[0m\u001b[0;34m:\u001b[0m\u001b[0;34m\u001b[0m\u001b[0;34m\u001b[0m\u001b[0m\n\u001b[0;32m--> 629\u001b[0;31m       \u001b[0mresult\u001b[0m \u001b[0;34m=\u001b[0m \u001b[0mmethod\u001b[0m\u001b[0;34m(\u001b[0m\u001b[0mself\u001b[0m\u001b[0;34m,\u001b[0m \u001b[0;34m*\u001b[0m\u001b[0margs\u001b[0m\u001b[0;34m,\u001b[0m \u001b[0;34m**\u001b[0m\u001b[0mkwargs\u001b[0m\u001b[0;34m)\u001b[0m\u001b[0;34m\u001b[0m\u001b[0;34m\u001b[0m\u001b[0m\n\u001b[0m\u001b[1;32m    630\u001b[0m     \u001b[0;32mfinally\u001b[0m\u001b[0;34m:\u001b[0m\u001b[0;34m\u001b[0m\u001b[0;34m\u001b[0m\u001b[0m\n\u001b[1;32m    631\u001b[0m       \u001b[0mself\u001b[0m\u001b[0;34m.\u001b[0m\u001b[0m_self_setattr_tracking\u001b[0m \u001b[0;34m=\u001b[0m \u001b[0mprevious_value\u001b[0m  \u001b[0;31m# pylint: disable=protected-access\u001b[0m\u001b[0;34m\u001b[0m\u001b[0;34m\u001b[0m\u001b[0m\n",
            "\u001b[0;32m/usr/local/lib/python3.7/dist-packages/keras/utils/traceback_utils.py\u001b[0m in \u001b[0;36merror_handler\u001b[0;34m(*args, **kwargs)\u001b[0m\n\u001b[1;32m     65\u001b[0m     \u001b[0;32mexcept\u001b[0m \u001b[0mException\u001b[0m \u001b[0;32mas\u001b[0m \u001b[0me\u001b[0m\u001b[0;34m:\u001b[0m  \u001b[0;31m# pylint: disable=broad-except\u001b[0m\u001b[0;34m\u001b[0m\u001b[0;34m\u001b[0m\u001b[0m\n\u001b[1;32m     66\u001b[0m       \u001b[0mfiltered_tb\u001b[0m \u001b[0;34m=\u001b[0m \u001b[0m_process_traceback_frames\u001b[0m\u001b[0;34m(\u001b[0m\u001b[0me\u001b[0m\u001b[0;34m.\u001b[0m\u001b[0m__traceback__\u001b[0m\u001b[0;34m)\u001b[0m\u001b[0;34m\u001b[0m\u001b[0;34m\u001b[0m\u001b[0m\n\u001b[0;32m---> 67\u001b[0;31m       \u001b[0;32mraise\u001b[0m \u001b[0me\u001b[0m\u001b[0;34m.\u001b[0m\u001b[0mwith_traceback\u001b[0m\u001b[0;34m(\u001b[0m\u001b[0mfiltered_tb\u001b[0m\u001b[0;34m)\u001b[0m \u001b[0;32mfrom\u001b[0m \u001b[0;32mNone\u001b[0m\u001b[0;34m\u001b[0m\u001b[0;34m\u001b[0m\u001b[0m\n\u001b[0m\u001b[1;32m     68\u001b[0m     \u001b[0;32mfinally\u001b[0m\u001b[0;34m:\u001b[0m\u001b[0;34m\u001b[0m\u001b[0;34m\u001b[0m\u001b[0m\n\u001b[1;32m     69\u001b[0m       \u001b[0;32mdel\u001b[0m \u001b[0mfiltered_tb\u001b[0m\u001b[0;34m\u001b[0m\u001b[0;34m\u001b[0m\u001b[0m\n",
            "\u001b[0;32m/usr/local/lib/python3.7/dist-packages/keras/backend.py\u001b[0m in \u001b[0;36mrandom_normal\u001b[0;34m(self, shape, mean, stddev, dtype)\u001b[0m\n\u001b[1;32m   1910\u001b[0m     return tf.random.normal(\n\u001b[1;32m   1911\u001b[0m         \u001b[0mshape\u001b[0m\u001b[0;34m=\u001b[0m\u001b[0mshape\u001b[0m\u001b[0;34m,\u001b[0m \u001b[0mmean\u001b[0m\u001b[0;34m=\u001b[0m\u001b[0mmean\u001b[0m\u001b[0;34m,\u001b[0m \u001b[0mstddev\u001b[0m\u001b[0;34m=\u001b[0m\u001b[0mstddev\u001b[0m\u001b[0;34m,\u001b[0m \u001b[0mdtype\u001b[0m\u001b[0;34m=\u001b[0m\u001b[0mdtype\u001b[0m\u001b[0;34m,\u001b[0m\u001b[0;34m\u001b[0m\u001b[0;34m\u001b[0m\u001b[0m\n\u001b[0;32m-> 1912\u001b[0;31m         seed=self.make_legacy_seed())\n\u001b[0m\u001b[1;32m   1913\u001b[0m \u001b[0;34m\u001b[0m\u001b[0m\n\u001b[1;32m   1914\u001b[0m   \u001b[0;32mdef\u001b[0m \u001b[0mrandom_uniform\u001b[0m\u001b[0;34m(\u001b[0m\u001b[0mself\u001b[0m\u001b[0;34m,\u001b[0m \u001b[0mshape\u001b[0m\u001b[0;34m,\u001b[0m \u001b[0mminval\u001b[0m\u001b[0;34m=\u001b[0m\u001b[0;36m0.\u001b[0m\u001b[0;34m,\u001b[0m \u001b[0mmaxval\u001b[0m\u001b[0;34m=\u001b[0m\u001b[0;32mNone\u001b[0m\u001b[0;34m,\u001b[0m \u001b[0mdtype\u001b[0m\u001b[0;34m=\u001b[0m\u001b[0;32mNone\u001b[0m\u001b[0;34m)\u001b[0m\u001b[0;34m:\u001b[0m\u001b[0;34m\u001b[0m\u001b[0;34m\u001b[0m\u001b[0m\n",
            "\u001b[0;31mResourceExhaustedError\u001b[0m: failed to allocate memory [Op:AddV2]"
          ]
        }
      ],
      "source": [
        "model = keras.Sequential([\n",
        "      keras.layers.LSTM(units=25*25,return_sequences=True,input_shape=(25,1)),\n",
        "      keras.layers.LSTM(units=25*25*25,return_sequences=True),\n",
        "      #keras.layers.Flatten(),\n",
        "      #keras.layers.Conv2D(25*25,activation='tahn',kernel_),\n",
        "      #keras.layers.Conv2D(25*25*25,activation='relu'),\n",
        "      #tf.keras.layers.ConvLSTM1D(),\n",
        "      #keras.layers.Dense(125,activation='tanh'),\n",
        "      #tf.keras.layers.Dropout(\n",
        "      #    0.1\n",
        "      #),\n",
        "      keras.layers.Dense(25*25*25,activation='tanh'),\n",
        "      #keras.layers.Dense(25*25*25,activation='tanh'),\n",
        "      #keras.layers.Flatten(),\n",
        "      #tf.keras.layers.Dropout(\n",
        "      #    0.1\n",
        "      #), \n",
        "    \n",
        "      #keras.layers.Dense(25*25*25,activation='tanh'),\n",
        "      #tf.keras.layers.Dropout(\n",
        "      #    0.1\n",
        "      #),\n",
        "      keras.layers.Dense(25*25,activation='tanh'),\n",
        "      keras.layers.Dense(10,activation='softmax')\n",
        "      \n",
        "])"
      ]
    },
    {
      "cell_type": "code",
      "execution_count": null,
      "metadata": {
        "id": "3cHS6pRcCcya"
      },
      "outputs": [],
      "source": [
        "model.compile(optimizer='adam',\n",
        "              loss='sparse_categorical_crossentropy',\n",
        "              metrics = ['accuracy']\n",
        "              )"
      ]
    },
    {
      "cell_type": "code",
      "execution_count": null,
      "metadata": {
        "id": "_P3lZyU_C304"
      },
      "outputs": [],
      "source": [
        "tf.config.run_functions_eagerly(True)"
      ]
    },
    {
      "cell_type": "code",
      "execution_count": null,
      "metadata": {
        "id": "6NsowNtzCjMp"
      },
      "outputs": [],
      "source": [
        "model.fit(X_train,y_train,epochs=100)"
      ]
    },
    {
      "cell_type": "code",
      "execution_count": null,
      "metadata": {
        "id": "v7wKR8ZVN2U8"
      },
      "outputs": [],
      "source": [
        "from keras.layers import Dense, Dropout, Embedding, LSTM, Bidirectional"
      ]
    },
    {
      "cell_type": "code",
      "execution_count": null,
      "metadata": {
        "id": "rqaTVOzqN2WE"
      },
      "outputs": [],
      "source": [
        "# USE LSTM"
      ]
    },
    {
      "cell_type": "code",
      "execution_count": null,
      "metadata": {
        "id": "t5eeLf1AN2Z9"
      },
      "outputs": [],
      "source": [
        "model = Sequential()\n",
        "model.add(LSTM(units=50, return_sequences=True, input_shape = (X_train.shape[1], X_train.shape[2])))\n",
        "\n",
        "model.add(Dropout(0.1)) \n",
        "model.add(LSTM(units=150))\n",
        "\n",
        "model.add(Dense(2))\n",
        "\n",
        "model.compile(loss='mean_squared_error', optimizer='adam', metrics=['mean_absolute_error'])\n",
        "\n",
        "model.summary()"
      ]
    },
    {
      "cell_type": "code",
      "execution_count": null,
      "metadata": {
        "id": "hPkgUnHMCq2J"
      },
      "outputs": [],
      "source": [
        "# THE BEST ACCURACY THE WE GET FROM BASE NEURAL NET  is : 0.5150\n",
        "# we will now further change the neural net structure and do hyperperametertuning"
      ]
    },
    {
      "cell_type": "code",
      "execution_count": null,
      "metadata": {
        "id": "aV3w2lUiJZm-"
      },
      "outputs": [],
      "source": [
        "scores = model.evaluate(X_test, y_test)"
      ]
    },
    {
      "cell_type": "code",
      "execution_count": null,
      "metadata": {
        "id": "FVgAtsXQNzJw"
      },
      "outputs": [],
      "source": [
        "scores"
      ]
    },
    {
      "cell_type": "code",
      "execution_count": null,
      "metadata": {
        "id": "u20M54JqN14m"
      },
      "outputs": [],
      "source": [
        ""
      ]
    }
  ],
  "metadata": {
    "accelerator": "GPU",
    "colab": {
      "collapsed_sections": [],
      "name": "indic_script_detection.ipynb",
      "provenance": []
    },
    "gpuClass": "standard",
    "kernelspec": {
      "display_name": "Python 3",
      "name": "python3"
    },
    "language_info": {
      "name": "python"
    }
  },
  "nbformat": 4,
  "nbformat_minor": 0
}