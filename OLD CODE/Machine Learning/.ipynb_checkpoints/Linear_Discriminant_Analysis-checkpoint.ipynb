{
 "cells": [
  {
   "cell_type": "code",
   "execution_count": 1,
   "id": "60a9be9a",
   "metadata": {},
   "outputs": [
    {
     "name": "stdout",
     "output_type": "stream",
     "text": [
      "Mean Accuracy: 0.893 (0.033)\n"
     ]
    }
   ],
   "source": [
    "# evaluate a lda model on the dataset\n",
    "from numpy import mean\n",
    "from numpy import std\n",
    "from sklearn.datasets import make_classification\n",
    "from sklearn.model_selection import cross_val_score\n",
    "from sklearn.model_selection import RepeatedStratifiedKFold\n",
    "from sklearn.discriminant_analysis import LinearDiscriminantAnalysis\n",
    "# define dataset\n",
    "X, y = make_classification(n_samples=1000, n_features=10, n_informative=10, n_redundant=0, random_state=1)\n",
    "# define model\n",
    "model = LinearDiscriminantAnalysis()\n",
    "# define model evaluation method\n",
    "cv = RepeatedStratifiedKFold(n_splits=10, n_repeats=3, random_state=1)\n",
    "# evaluate model\n",
    "scores = cross_val_score(model, X, y, scoring='accuracy', cv=cv, n_jobs=-1)\n",
    "# summarize result\n",
    "print('Mean Accuracy: %.3f (%.3f)' % (mean(scores), std(scores)))"
   ]
  },
  {
   "cell_type": "code",
   "execution_count": 16,
   "id": "7c2f8a1b",
   "metadata": {},
   "outputs": [],
   "source": [
    "import pandas as pd"
   ]
  },
  {
   "cell_type": "code",
   "execution_count": 22,
   "id": "48f7dc33",
   "metadata": {},
   "outputs": [],
   "source": [
    "X = pd.read_csv('X_dev.csv')\n",
    "y = pd.read_csv('y_dev.csv')\n",
    "X = X.drop(columns=['Unnamed: 0'])\n",
    "y = y.drop(columns=['Unnamed: 0'])"
   ]
  },
  {
   "cell_type": "code",
   "execution_count": 23,
   "id": "fc3d6c19",
   "metadata": {
    "scrolled": true
   },
   "outputs": [
    {
     "data": {
      "text/html": [
       "<div>\n",
       "<style scoped>\n",
       "    .dataframe tbody tr th:only-of-type {\n",
       "        vertical-align: middle;\n",
       "    }\n",
       "\n",
       "    .dataframe tbody tr th {\n",
       "        vertical-align: top;\n",
       "    }\n",
       "\n",
       "    .dataframe thead th {\n",
       "        text-align: right;\n",
       "    }\n",
       "</style>\n",
       "<table border=\"1\" class=\"dataframe\">\n",
       "  <thead>\n",
       "    <tr style=\"text-align: right;\">\n",
       "      <th></th>\n",
       "      <th>Energy</th>\n",
       "      <th>Corr</th>\n",
       "      <th>Diss_sim</th>\n",
       "      <th>Homogen</th>\n",
       "      <th>Contrast</th>\n",
       "      <th>Energy2</th>\n",
       "      <th>Corr2</th>\n",
       "      <th>Diss_sim2</th>\n",
       "      <th>Homogen2</th>\n",
       "      <th>Contrast2</th>\n",
       "      <th>...</th>\n",
       "      <th>Energy4</th>\n",
       "      <th>Corr4</th>\n",
       "      <th>Diss_sim4</th>\n",
       "      <th>Homogen4</th>\n",
       "      <th>Contrast4</th>\n",
       "      <th>Energy5</th>\n",
       "      <th>Corr5</th>\n",
       "      <th>Diss_sim5</th>\n",
       "      <th>Homogen5</th>\n",
       "      <th>Contrast5</th>\n",
       "    </tr>\n",
       "  </thead>\n",
       "  <tbody>\n",
       "    <tr>\n",
       "      <th>0</th>\n",
       "      <td>0.583967</td>\n",
       "      <td>0.975496</td>\n",
       "      <td>9.404243</td>\n",
       "      <td>0.800701</td>\n",
       "      <td>616.918643</td>\n",
       "      <td>0.537251</td>\n",
       "      <td>0.836165</td>\n",
       "      <td>27.847425</td>\n",
       "      <td>0.714304</td>\n",
       "      <td>4132.026649</td>\n",
       "      <td>...</td>\n",
       "      <td>0.607864</td>\n",
       "      <td>1.0</td>\n",
       "      <td>0.0</td>\n",
       "      <td>1.0</td>\n",
       "      <td>0.0</td>\n",
       "      <td>0.607864</td>\n",
       "      <td>1.0</td>\n",
       "      <td>0.0</td>\n",
       "      <td>1.0</td>\n",
       "      <td>0.0</td>\n",
       "    </tr>\n",
       "    <tr>\n",
       "      <th>1</th>\n",
       "      <td>0.509047</td>\n",
       "      <td>0.967128</td>\n",
       "      <td>12.441789</td>\n",
       "      <td>0.753983</td>\n",
       "      <td>879.054381</td>\n",
       "      <td>0.442463</td>\n",
       "      <td>0.781184</td>\n",
       "      <td>37.348783</td>\n",
       "      <td>0.644560</td>\n",
       "      <td>5857.093812</td>\n",
       "      <td>...</td>\n",
       "      <td>0.543320</td>\n",
       "      <td>1.0</td>\n",
       "      <td>0.0</td>\n",
       "      <td>1.0</td>\n",
       "      <td>0.0</td>\n",
       "      <td>0.543320</td>\n",
       "      <td>1.0</td>\n",
       "      <td>0.0</td>\n",
       "      <td>1.0</td>\n",
       "      <td>0.0</td>\n",
       "    </tr>\n",
       "    <tr>\n",
       "      <th>2</th>\n",
       "      <td>0.547644</td>\n",
       "      <td>0.974732</td>\n",
       "      <td>10.141636</td>\n",
       "      <td>0.778776</td>\n",
       "      <td>631.485478</td>\n",
       "      <td>0.495706</td>\n",
       "      <td>0.823576</td>\n",
       "      <td>30.401309</td>\n",
       "      <td>0.684403</td>\n",
       "      <td>4413.912024</td>\n",
       "      <td>...</td>\n",
       "      <td>0.574141</td>\n",
       "      <td>1.0</td>\n",
       "      <td>0.0</td>\n",
       "      <td>1.0</td>\n",
       "      <td>0.0</td>\n",
       "      <td>0.574141</td>\n",
       "      <td>1.0</td>\n",
       "      <td>0.0</td>\n",
       "      <td>1.0</td>\n",
       "      <td>0.0</td>\n",
       "    </tr>\n",
       "    <tr>\n",
       "      <th>3</th>\n",
       "      <td>0.559575</td>\n",
       "      <td>0.975192</td>\n",
       "      <td>9.733793</td>\n",
       "      <td>0.800335</td>\n",
       "      <td>658.681863</td>\n",
       "      <td>0.511135</td>\n",
       "      <td>0.834312</td>\n",
       "      <td>28.922338</td>\n",
       "      <td>0.713047</td>\n",
       "      <td>4394.650259</td>\n",
       "      <td>...</td>\n",
       "      <td>0.584557</td>\n",
       "      <td>1.0</td>\n",
       "      <td>0.0</td>\n",
       "      <td>1.0</td>\n",
       "      <td>0.0</td>\n",
       "      <td>0.584557</td>\n",
       "      <td>1.0</td>\n",
       "      <td>0.0</td>\n",
       "      <td>1.0</td>\n",
       "      <td>0.0</td>\n",
       "    </tr>\n",
       "    <tr>\n",
       "      <th>4</th>\n",
       "      <td>0.675394</td>\n",
       "      <td>0.969754</td>\n",
       "      <td>8.110708</td>\n",
       "      <td>0.851848</td>\n",
       "      <td>616.763526</td>\n",
       "      <td>0.637400</td>\n",
       "      <td>0.807739</td>\n",
       "      <td>24.283581</td>\n",
       "      <td>0.781797</td>\n",
       "      <td>3936.207958</td>\n",
       "      <td>...</td>\n",
       "      <td>0.694929</td>\n",
       "      <td>1.0</td>\n",
       "      <td>0.0</td>\n",
       "      <td>1.0</td>\n",
       "      <td>0.0</td>\n",
       "      <td>0.694929</td>\n",
       "      <td>1.0</td>\n",
       "      <td>0.0</td>\n",
       "      <td>1.0</td>\n",
       "      <td>0.0</td>\n",
       "    </tr>\n",
       "  </tbody>\n",
       "</table>\n",
       "<p>5 rows × 25 columns</p>\n",
       "</div>"
      ],
      "text/plain": [
       "     Energy      Corr   Diss_sim   Homogen    Contrast   Energy2     Corr2  \\\n",
       "0  0.583967  0.975496   9.404243  0.800701  616.918643  0.537251  0.836165   \n",
       "1  0.509047  0.967128  12.441789  0.753983  879.054381  0.442463  0.781184   \n",
       "2  0.547644  0.974732  10.141636  0.778776  631.485478  0.495706  0.823576   \n",
       "3  0.559575  0.975192   9.733793  0.800335  658.681863  0.511135  0.834312   \n",
       "4  0.675394  0.969754   8.110708  0.851848  616.763526  0.637400  0.807739   \n",
       "\n",
       "   Diss_sim2  Homogen2    Contrast2  ...   Energy4  Corr4  Diss_sim4  \\\n",
       "0  27.847425  0.714304  4132.026649  ...  0.607864    1.0        0.0   \n",
       "1  37.348783  0.644560  5857.093812  ...  0.543320    1.0        0.0   \n",
       "2  30.401309  0.684403  4413.912024  ...  0.574141    1.0        0.0   \n",
       "3  28.922338  0.713047  4394.650259  ...  0.584557    1.0        0.0   \n",
       "4  24.283581  0.781797  3936.207958  ...  0.694929    1.0        0.0   \n",
       "\n",
       "   Homogen4  Contrast4   Energy5  Corr5  Diss_sim5  Homogen5  Contrast5  \n",
       "0       1.0        0.0  0.607864    1.0        0.0       1.0        0.0  \n",
       "1       1.0        0.0  0.543320    1.0        0.0       1.0        0.0  \n",
       "2       1.0        0.0  0.574141    1.0        0.0       1.0        0.0  \n",
       "3       1.0        0.0  0.584557    1.0        0.0       1.0        0.0  \n",
       "4       1.0        0.0  0.694929    1.0        0.0       1.0        0.0  \n",
       "\n",
       "[5 rows x 25 columns]"
      ]
     },
     "execution_count": 23,
     "metadata": {},
     "output_type": "execute_result"
    }
   ],
   "source": [
    "X.head()"
   ]
  },
  {
   "cell_type": "code",
   "execution_count": 24,
   "id": "cde474ab",
   "metadata": {},
   "outputs": [
    {
     "data": {
      "text/html": [
       "<div>\n",
       "<style scoped>\n",
       "    .dataframe tbody tr th:only-of-type {\n",
       "        vertical-align: middle;\n",
       "    }\n",
       "\n",
       "    .dataframe tbody tr th {\n",
       "        vertical-align: top;\n",
       "    }\n",
       "\n",
       "    .dataframe thead th {\n",
       "        text-align: right;\n",
       "    }\n",
       "</style>\n",
       "<table border=\"1\" class=\"dataframe\">\n",
       "  <thead>\n",
       "    <tr style=\"text-align: right;\">\n",
       "      <th></th>\n",
       "      <th>0</th>\n",
       "    </tr>\n",
       "  </thead>\n",
       "  <tbody>\n",
       "    <tr>\n",
       "      <th>0</th>\n",
       "      <td>Bengali</td>\n",
       "    </tr>\n",
       "    <tr>\n",
       "      <th>1</th>\n",
       "      <td>Bengali</td>\n",
       "    </tr>\n",
       "    <tr>\n",
       "      <th>2</th>\n",
       "      <td>Bengali</td>\n",
       "    </tr>\n",
       "    <tr>\n",
       "      <th>3</th>\n",
       "      <td>Bengali</td>\n",
       "    </tr>\n",
       "    <tr>\n",
       "      <th>4</th>\n",
       "      <td>Bengali</td>\n",
       "    </tr>\n",
       "  </tbody>\n",
       "</table>\n",
       "</div>"
      ],
      "text/plain": [
       "         0\n",
       "0  Bengali\n",
       "1  Bengali\n",
       "2  Bengali\n",
       "3  Bengali\n",
       "4  Bengali"
      ]
     },
     "execution_count": 24,
     "metadata": {},
     "output_type": "execute_result"
    }
   ],
   "source": [
    "y.head()"
   ]
  },
  {
   "cell_type": "code",
   "execution_count": 25,
   "id": "87816051",
   "metadata": {},
   "outputs": [
    {
     "name": "stderr",
     "output_type": "stream",
     "text": [
      "C:\\Users\\akshat\\anaconda3\\lib\\site-packages\\sklearn\\preprocessing\\_label.py:115: DataConversionWarning: A column-vector y was passed when a 1d array was expected. Please change the shape of y to (n_samples, ), for example using ravel().\n",
      "  y = column_or_1d(y, warn=True)\n"
     ]
    }
   ],
   "source": [
    "from sklearn.preprocessing import LabelEncoder\n",
    "labelencoder = LabelEncoder()\n",
    "y['label'] = labelencoder.fit_transform(y)\n",
    "y = y['label'].values\n"
   ]
  },
  {
   "cell_type": "code",
   "execution_count": 27,
   "id": "bc593d8c",
   "metadata": {},
   "outputs": [
    {
     "data": {
      "text/html": [
       "<div>\n",
       "<style scoped>\n",
       "    .dataframe tbody tr th:only-of-type {\n",
       "        vertical-align: middle;\n",
       "    }\n",
       "\n",
       "    .dataframe tbody tr th {\n",
       "        vertical-align: top;\n",
       "    }\n",
       "\n",
       "    .dataframe thead th {\n",
       "        text-align: right;\n",
       "    }\n",
       "</style>\n",
       "<table border=\"1\" class=\"dataframe\">\n",
       "  <thead>\n",
       "    <tr style=\"text-align: right;\">\n",
       "      <th></th>\n",
       "      <th>Energy</th>\n",
       "      <th>Corr</th>\n",
       "      <th>Diss_sim</th>\n",
       "      <th>Homogen</th>\n",
       "      <th>Contrast</th>\n",
       "      <th>Energy2</th>\n",
       "      <th>Corr2</th>\n",
       "      <th>Diss_sim2</th>\n",
       "      <th>Homogen2</th>\n",
       "      <th>Contrast2</th>\n",
       "      <th>...</th>\n",
       "      <th>Energy4</th>\n",
       "      <th>Corr4</th>\n",
       "      <th>Diss_sim4</th>\n",
       "      <th>Homogen4</th>\n",
       "      <th>Contrast4</th>\n",
       "      <th>Energy5</th>\n",
       "      <th>Corr5</th>\n",
       "      <th>Diss_sim5</th>\n",
       "      <th>Homogen5</th>\n",
       "      <th>Contrast5</th>\n",
       "    </tr>\n",
       "  </thead>\n",
       "  <tbody>\n",
       "    <tr>\n",
       "      <th>0</th>\n",
       "      <td>0.583967</td>\n",
       "      <td>0.975496</td>\n",
       "      <td>9.404243</td>\n",
       "      <td>0.800701</td>\n",
       "      <td>616.918643</td>\n",
       "      <td>0.537251</td>\n",
       "      <td>0.836165</td>\n",
       "      <td>27.847425</td>\n",
       "      <td>0.714304</td>\n",
       "      <td>4132.026649</td>\n",
       "      <td>...</td>\n",
       "      <td>0.607864</td>\n",
       "      <td>1.0</td>\n",
       "      <td>0.0</td>\n",
       "      <td>1.0</td>\n",
       "      <td>0.0</td>\n",
       "      <td>0.607864</td>\n",
       "      <td>1.0</td>\n",
       "      <td>0.0</td>\n",
       "      <td>1.0</td>\n",
       "      <td>0.0</td>\n",
       "    </tr>\n",
       "    <tr>\n",
       "      <th>1</th>\n",
       "      <td>0.509047</td>\n",
       "      <td>0.967128</td>\n",
       "      <td>12.441789</td>\n",
       "      <td>0.753983</td>\n",
       "      <td>879.054381</td>\n",
       "      <td>0.442463</td>\n",
       "      <td>0.781184</td>\n",
       "      <td>37.348783</td>\n",
       "      <td>0.644560</td>\n",
       "      <td>5857.093812</td>\n",
       "      <td>...</td>\n",
       "      <td>0.543320</td>\n",
       "      <td>1.0</td>\n",
       "      <td>0.0</td>\n",
       "      <td>1.0</td>\n",
       "      <td>0.0</td>\n",
       "      <td>0.543320</td>\n",
       "      <td>1.0</td>\n",
       "      <td>0.0</td>\n",
       "      <td>1.0</td>\n",
       "      <td>0.0</td>\n",
       "    </tr>\n",
       "    <tr>\n",
       "      <th>2</th>\n",
       "      <td>0.547644</td>\n",
       "      <td>0.974732</td>\n",
       "      <td>10.141636</td>\n",
       "      <td>0.778776</td>\n",
       "      <td>631.485478</td>\n",
       "      <td>0.495706</td>\n",
       "      <td>0.823576</td>\n",
       "      <td>30.401309</td>\n",
       "      <td>0.684403</td>\n",
       "      <td>4413.912024</td>\n",
       "      <td>...</td>\n",
       "      <td>0.574141</td>\n",
       "      <td>1.0</td>\n",
       "      <td>0.0</td>\n",
       "      <td>1.0</td>\n",
       "      <td>0.0</td>\n",
       "      <td>0.574141</td>\n",
       "      <td>1.0</td>\n",
       "      <td>0.0</td>\n",
       "      <td>1.0</td>\n",
       "      <td>0.0</td>\n",
       "    </tr>\n",
       "    <tr>\n",
       "      <th>3</th>\n",
       "      <td>0.559575</td>\n",
       "      <td>0.975192</td>\n",
       "      <td>9.733793</td>\n",
       "      <td>0.800335</td>\n",
       "      <td>658.681863</td>\n",
       "      <td>0.511135</td>\n",
       "      <td>0.834312</td>\n",
       "      <td>28.922338</td>\n",
       "      <td>0.713047</td>\n",
       "      <td>4394.650259</td>\n",
       "      <td>...</td>\n",
       "      <td>0.584557</td>\n",
       "      <td>1.0</td>\n",
       "      <td>0.0</td>\n",
       "      <td>1.0</td>\n",
       "      <td>0.0</td>\n",
       "      <td>0.584557</td>\n",
       "      <td>1.0</td>\n",
       "      <td>0.0</td>\n",
       "      <td>1.0</td>\n",
       "      <td>0.0</td>\n",
       "    </tr>\n",
       "    <tr>\n",
       "      <th>4</th>\n",
       "      <td>0.675394</td>\n",
       "      <td>0.969754</td>\n",
       "      <td>8.110708</td>\n",
       "      <td>0.851848</td>\n",
       "      <td>616.763526</td>\n",
       "      <td>0.637400</td>\n",
       "      <td>0.807739</td>\n",
       "      <td>24.283581</td>\n",
       "      <td>0.781797</td>\n",
       "      <td>3936.207958</td>\n",
       "      <td>...</td>\n",
       "      <td>0.694929</td>\n",
       "      <td>1.0</td>\n",
       "      <td>0.0</td>\n",
       "      <td>1.0</td>\n",
       "      <td>0.0</td>\n",
       "      <td>0.694929</td>\n",
       "      <td>1.0</td>\n",
       "      <td>0.0</td>\n",
       "      <td>1.0</td>\n",
       "      <td>0.0</td>\n",
       "    </tr>\n",
       "    <tr>\n",
       "      <th>...</th>\n",
       "      <td>...</td>\n",
       "      <td>...</td>\n",
       "      <td>...</td>\n",
       "      <td>...</td>\n",
       "      <td>...</td>\n",
       "      <td>...</td>\n",
       "      <td>...</td>\n",
       "      <td>...</td>\n",
       "      <td>...</td>\n",
       "      <td>...</td>\n",
       "      <td>...</td>\n",
       "      <td>...</td>\n",
       "      <td>...</td>\n",
       "      <td>...</td>\n",
       "      <td>...</td>\n",
       "      <td>...</td>\n",
       "      <td>...</td>\n",
       "      <td>...</td>\n",
       "      <td>...</td>\n",
       "      <td>...</td>\n",
       "      <td>...</td>\n",
       "    </tr>\n",
       "    <tr>\n",
       "      <th>19995</th>\n",
       "      <td>0.695388</td>\n",
       "      <td>0.991038</td>\n",
       "      <td>3.871569</td>\n",
       "      <td>0.885366</td>\n",
       "      <td>182.112776</td>\n",
       "      <td>0.677577</td>\n",
       "      <td>0.933707</td>\n",
       "      <td>11.508584</td>\n",
       "      <td>0.847786</td>\n",
       "      <td>1347.969460</td>\n",
       "      <td>...</td>\n",
       "      <td>0.704427</td>\n",
       "      <td>1.0</td>\n",
       "      <td>0.0</td>\n",
       "      <td>1.0</td>\n",
       "      <td>0.0</td>\n",
       "      <td>0.704427</td>\n",
       "      <td>1.0</td>\n",
       "      <td>0.0</td>\n",
       "      <td>1.0</td>\n",
       "      <td>0.0</td>\n",
       "    </tr>\n",
       "    <tr>\n",
       "      <th>19996</th>\n",
       "      <td>0.757217</td>\n",
       "      <td>0.940724</td>\n",
       "      <td>9.164920</td>\n",
       "      <td>0.872536</td>\n",
       "      <td>976.254933</td>\n",
       "      <td>0.717529</td>\n",
       "      <td>0.694009</td>\n",
       "      <td>27.092206</td>\n",
       "      <td>0.794792</td>\n",
       "      <td>5059.843688</td>\n",
       "      <td>...</td>\n",
       "      <td>0.778295</td>\n",
       "      <td>1.0</td>\n",
       "      <td>0.0</td>\n",
       "      <td>1.0</td>\n",
       "      <td>0.0</td>\n",
       "      <td>0.778295</td>\n",
       "      <td>1.0</td>\n",
       "      <td>0.0</td>\n",
       "      <td>1.0</td>\n",
       "      <td>0.0</td>\n",
       "    </tr>\n",
       "    <tr>\n",
       "      <th>19997</th>\n",
       "      <td>0.742859</td>\n",
       "      <td>0.989823</td>\n",
       "      <td>3.718627</td>\n",
       "      <td>0.894467</td>\n",
       "      <td>181.560263</td>\n",
       "      <td>0.726621</td>\n",
       "      <td>0.925556</td>\n",
       "      <td>10.985116</td>\n",
       "      <td>0.858728</td>\n",
       "      <td>1329.790205</td>\n",
       "      <td>...</td>\n",
       "      <td>0.751251</td>\n",
       "      <td>1.0</td>\n",
       "      <td>0.0</td>\n",
       "      <td>1.0</td>\n",
       "      <td>0.0</td>\n",
       "      <td>0.751251</td>\n",
       "      <td>1.0</td>\n",
       "      <td>0.0</td>\n",
       "      <td>1.0</td>\n",
       "      <td>0.0</td>\n",
       "    </tr>\n",
       "    <tr>\n",
       "      <th>19998</th>\n",
       "      <td>0.653333</td>\n",
       "      <td>0.984502</td>\n",
       "      <td>6.062791</td>\n",
       "      <td>0.862511</td>\n",
       "      <td>365.273606</td>\n",
       "      <td>0.623390</td>\n",
       "      <td>0.891208</td>\n",
       "      <td>18.134202</td>\n",
       "      <td>0.807236</td>\n",
       "      <td>2566.321733</td>\n",
       "      <td>...</td>\n",
       "      <td>0.668629</td>\n",
       "      <td>1.0</td>\n",
       "      <td>0.0</td>\n",
       "      <td>1.0</td>\n",
       "      <td>0.0</td>\n",
       "      <td>0.668629</td>\n",
       "      <td>1.0</td>\n",
       "      <td>0.0</td>\n",
       "      <td>1.0</td>\n",
       "      <td>0.0</td>\n",
       "    </tr>\n",
       "    <tr>\n",
       "      <th>19999</th>\n",
       "      <td>0.791289</td>\n",
       "      <td>0.872916</td>\n",
       "      <td>12.492770</td>\n",
       "      <td>0.855202</td>\n",
       "      <td>1597.059712</td>\n",
       "      <td>0.741156</td>\n",
       "      <td>0.463650</td>\n",
       "      <td>33.578619</td>\n",
       "      <td>0.773543</td>\n",
       "      <td>6762.847023</td>\n",
       "      <td>...</td>\n",
       "      <td>0.818950</td>\n",
       "      <td>1.0</td>\n",
       "      <td>0.0</td>\n",
       "      <td>1.0</td>\n",
       "      <td>0.0</td>\n",
       "      <td>0.818950</td>\n",
       "      <td>1.0</td>\n",
       "      <td>0.0</td>\n",
       "      <td>1.0</td>\n",
       "      <td>0.0</td>\n",
       "    </tr>\n",
       "  </tbody>\n",
       "</table>\n",
       "<p>20000 rows × 25 columns</p>\n",
       "</div>"
      ],
      "text/plain": [
       "         Energy      Corr   Diss_sim   Homogen     Contrast   Energy2  \\\n",
       "0      0.583967  0.975496   9.404243  0.800701   616.918643  0.537251   \n",
       "1      0.509047  0.967128  12.441789  0.753983   879.054381  0.442463   \n",
       "2      0.547644  0.974732  10.141636  0.778776   631.485478  0.495706   \n",
       "3      0.559575  0.975192   9.733793  0.800335   658.681863  0.511135   \n",
       "4      0.675394  0.969754   8.110708  0.851848   616.763526  0.637400   \n",
       "...         ...       ...        ...       ...          ...       ...   \n",
       "19995  0.695388  0.991038   3.871569  0.885366   182.112776  0.677577   \n",
       "19996  0.757217  0.940724   9.164920  0.872536   976.254933  0.717529   \n",
       "19997  0.742859  0.989823   3.718627  0.894467   181.560263  0.726621   \n",
       "19998  0.653333  0.984502   6.062791  0.862511   365.273606  0.623390   \n",
       "19999  0.791289  0.872916  12.492770  0.855202  1597.059712  0.741156   \n",
       "\n",
       "          Corr2  Diss_sim2  Homogen2    Contrast2  ...   Energy4  Corr4  \\\n",
       "0      0.836165  27.847425  0.714304  4132.026649  ...  0.607864    1.0   \n",
       "1      0.781184  37.348783  0.644560  5857.093812  ...  0.543320    1.0   \n",
       "2      0.823576  30.401309  0.684403  4413.912024  ...  0.574141    1.0   \n",
       "3      0.834312  28.922338  0.713047  4394.650259  ...  0.584557    1.0   \n",
       "4      0.807739  24.283581  0.781797  3936.207958  ...  0.694929    1.0   \n",
       "...         ...        ...       ...          ...  ...       ...    ...   \n",
       "19995  0.933707  11.508584  0.847786  1347.969460  ...  0.704427    1.0   \n",
       "19996  0.694009  27.092206  0.794792  5059.843688  ...  0.778295    1.0   \n",
       "19997  0.925556  10.985116  0.858728  1329.790205  ...  0.751251    1.0   \n",
       "19998  0.891208  18.134202  0.807236  2566.321733  ...  0.668629    1.0   \n",
       "19999  0.463650  33.578619  0.773543  6762.847023  ...  0.818950    1.0   \n",
       "\n",
       "       Diss_sim4  Homogen4  Contrast4   Energy5  Corr5  Diss_sim5  Homogen5  \\\n",
       "0            0.0       1.0        0.0  0.607864    1.0        0.0       1.0   \n",
       "1            0.0       1.0        0.0  0.543320    1.0        0.0       1.0   \n",
       "2            0.0       1.0        0.0  0.574141    1.0        0.0       1.0   \n",
       "3            0.0       1.0        0.0  0.584557    1.0        0.0       1.0   \n",
       "4            0.0       1.0        0.0  0.694929    1.0        0.0       1.0   \n",
       "...          ...       ...        ...       ...    ...        ...       ...   \n",
       "19995        0.0       1.0        0.0  0.704427    1.0        0.0       1.0   \n",
       "19996        0.0       1.0        0.0  0.778295    1.0        0.0       1.0   \n",
       "19997        0.0       1.0        0.0  0.751251    1.0        0.0       1.0   \n",
       "19998        0.0       1.0        0.0  0.668629    1.0        0.0       1.0   \n",
       "19999        0.0       1.0        0.0  0.818950    1.0        0.0       1.0   \n",
       "\n",
       "       Contrast5  \n",
       "0            0.0  \n",
       "1            0.0  \n",
       "2            0.0  \n",
       "3            0.0  \n",
       "4            0.0  \n",
       "...          ...  \n",
       "19995        0.0  \n",
       "19996        0.0  \n",
       "19997        0.0  \n",
       "19998        0.0  \n",
       "19999        0.0  \n",
       "\n",
       "[20000 rows x 25 columns]"
      ]
     },
     "execution_count": 27,
     "metadata": {},
     "output_type": "execute_result"
    }
   ],
   "source": [
    "X"
   ]
  },
  {
   "cell_type": "code",
   "execution_count": 28,
   "id": "70f398ef",
   "metadata": {},
   "outputs": [
    {
     "data": {
      "text/plain": [
       "array([0, 0, 0, ..., 9, 9, 9])"
      ]
     },
     "execution_count": 28,
     "metadata": {},
     "output_type": "execute_result"
    }
   ],
   "source": [
    "y"
   ]
  },
  {
   "cell_type": "code",
   "execution_count": 33,
   "id": "b3212bdc",
   "metadata": {},
   "outputs": [],
   "source": [
    "from sklearn.model_selection import train_test_split\n",
    "X_train,X_test,y_train,y_test = train_test_split(X,y,test_size=0.3,random_state=43)"
   ]
  },
  {
   "cell_type": "code",
   "execution_count": 49,
   "id": "261b82b4",
   "metadata": {},
   "outputs": [],
   "source": [
    "from sklearn.preprocessing import StandardScaler\n",
    "scaler = StandardScaler()\n",
    "scaler.fit(X_train)\n",
    "# fitting the data\n",
    "X_train = scaler.transform(X_train)\n",
    "X_test =  scaler.transform(X_test)"
   ]
  },
  {
   "cell_type": "code",
   "execution_count": 50,
   "id": "f0b82e55",
   "metadata": {},
   "outputs": [
    {
     "data": {
      "text/html": [
       "<style>#sk-container-id-4 {color: black;background-color: white;}#sk-container-id-4 pre{padding: 0;}#sk-container-id-4 div.sk-toggleable {background-color: white;}#sk-container-id-4 label.sk-toggleable__label {cursor: pointer;display: block;width: 100%;margin-bottom: 0;padding: 0.3em;box-sizing: border-box;text-align: center;}#sk-container-id-4 label.sk-toggleable__label-arrow:before {content: \"▸\";float: left;margin-right: 0.25em;color: #696969;}#sk-container-id-4 label.sk-toggleable__label-arrow:hover:before {color: black;}#sk-container-id-4 div.sk-estimator:hover label.sk-toggleable__label-arrow:before {color: black;}#sk-container-id-4 div.sk-toggleable__content {max-height: 0;max-width: 0;overflow: hidden;text-align: left;background-color: #f0f8ff;}#sk-container-id-4 div.sk-toggleable__content pre {margin: 0.2em;color: black;border-radius: 0.25em;background-color: #f0f8ff;}#sk-container-id-4 input.sk-toggleable__control:checked~div.sk-toggleable__content {max-height: 200px;max-width: 100%;overflow: auto;}#sk-container-id-4 input.sk-toggleable__control:checked~label.sk-toggleable__label-arrow:before {content: \"▾\";}#sk-container-id-4 div.sk-estimator input.sk-toggleable__control:checked~label.sk-toggleable__label {background-color: #d4ebff;}#sk-container-id-4 div.sk-label input.sk-toggleable__control:checked~label.sk-toggleable__label {background-color: #d4ebff;}#sk-container-id-4 input.sk-hidden--visually {border: 0;clip: rect(1px 1px 1px 1px);clip: rect(1px, 1px, 1px, 1px);height: 1px;margin: -1px;overflow: hidden;padding: 0;position: absolute;width: 1px;}#sk-container-id-4 div.sk-estimator {font-family: monospace;background-color: #f0f8ff;border: 1px dotted black;border-radius: 0.25em;box-sizing: border-box;margin-bottom: 0.5em;}#sk-container-id-4 div.sk-estimator:hover {background-color: #d4ebff;}#sk-container-id-4 div.sk-parallel-item::after {content: \"\";width: 100%;border-bottom: 1px solid gray;flex-grow: 1;}#sk-container-id-4 div.sk-label:hover label.sk-toggleable__label {background-color: #d4ebff;}#sk-container-id-4 div.sk-serial::before {content: \"\";position: absolute;border-left: 1px solid gray;box-sizing: border-box;top: 0;bottom: 0;left: 50%;z-index: 0;}#sk-container-id-4 div.sk-serial {display: flex;flex-direction: column;align-items: center;background-color: white;padding-right: 0.2em;padding-left: 0.2em;position: relative;}#sk-container-id-4 div.sk-item {position: relative;z-index: 1;}#sk-container-id-4 div.sk-parallel {display: flex;align-items: stretch;justify-content: center;background-color: white;position: relative;}#sk-container-id-4 div.sk-item::before, #sk-container-id-4 div.sk-parallel-item::before {content: \"\";position: absolute;border-left: 1px solid gray;box-sizing: border-box;top: 0;bottom: 0;left: 50%;z-index: -1;}#sk-container-id-4 div.sk-parallel-item {display: flex;flex-direction: column;z-index: 1;position: relative;background-color: white;}#sk-container-id-4 div.sk-parallel-item:first-child::after {align-self: flex-end;width: 50%;}#sk-container-id-4 div.sk-parallel-item:last-child::after {align-self: flex-start;width: 50%;}#sk-container-id-4 div.sk-parallel-item:only-child::after {width: 0;}#sk-container-id-4 div.sk-dashed-wrapped {border: 1px dashed gray;margin: 0 0.4em 0.5em 0.4em;box-sizing: border-box;padding-bottom: 0.4em;background-color: white;}#sk-container-id-4 div.sk-label label {font-family: monospace;font-weight: bold;display: inline-block;line-height: 1.2em;}#sk-container-id-4 div.sk-label-container {text-align: center;}#sk-container-id-4 div.sk-container {/* jupyter's `normalize.less` sets `[hidden] { display: none; }` but bootstrap.min.css set `[hidden] { display: none !important; }` so we also need the `!important` here to be able to override the default hidden behavior on the sphinx rendered scikit-learn.org. See: https://github.com/scikit-learn/scikit-learn/issues/21755 */display: inline-block !important;position: relative;}#sk-container-id-4 div.sk-text-repr-fallback {display: none;}</style><div id=\"sk-container-id-4\" class=\"sk-top-container\"><div class=\"sk-text-repr-fallback\"><pre>LinearDiscriminantAnalysis()</pre><b>In a Jupyter environment, please rerun this cell to show the HTML representation or trust the notebook. <br />On GitHub, the HTML representation is unable to render, please try loading this page with nbviewer.org.</b></div><div class=\"sk-container\" hidden><div class=\"sk-item\"><div class=\"sk-estimator sk-toggleable\"><input class=\"sk-toggleable__control sk-hidden--visually\" id=\"sk-estimator-id-4\" type=\"checkbox\" checked><label for=\"sk-estimator-id-4\" class=\"sk-toggleable__label sk-toggleable__label-arrow\">LinearDiscriminantAnalysis</label><div class=\"sk-toggleable__content\"><pre>LinearDiscriminantAnalysis()</pre></div></div></div></div></div>"
      ],
      "text/plain": [
       "LinearDiscriminantAnalysis()"
      ]
     },
     "execution_count": 50,
     "metadata": {},
     "output_type": "execute_result"
    }
   ],
   "source": [
    "# define model\n",
    "model = LinearDiscriminantAnalysis()\n",
    "model.fit(X_train,y_train)\n"
   ]
  },
  {
   "cell_type": "code",
   "execution_count": 51,
   "id": "ff9456f9",
   "metadata": {},
   "outputs": [],
   "source": [
    "from sklearn.metrics import accuracy_score\n"
   ]
  },
  {
   "cell_type": "code",
   "execution_count": 56,
   "id": "7530c027",
   "metadata": {},
   "outputs": [
    {
     "name": "stdout",
     "output_type": "stream",
     "text": [
      "accuracry score\n",
      "0.48828571428571427\n"
     ]
    }
   ],
   "source": [
    "y_pred = model.predict(X_train)\n",
    "print(\"accuracry score\")\n",
    "print(accuracy_score(y_train,y_pred))"
   ]
  },
  {
   "cell_type": "code",
   "execution_count": 57,
   "id": "3eb1b5f9",
   "metadata": {},
   "outputs": [
    {
     "name": "stdout",
     "output_type": "stream",
     "text": [
      "accuracry score\n",
      "0.4885\n"
     ]
    }
   ],
   "source": [
    "y_pred = model.predict(X_test\n",
    "                    )\n",
    "print(\"accuracry score\")\n",
    "print(accuracy_score(y_test,y_pred))"
   ]
  },
  {
   "cell_type": "markdown",
   "id": "a6912843",
   "metadata": {},
   "source": [
    "## Hyper paramteter Tuning"
   ]
  },
  {
   "cell_type": "code",
   "execution_count": 66,
   "id": "d12cd229",
   "metadata": {},
   "outputs": [],
   "source": [
    "from sklearn.model_selection import GridSearchCV\n",
    "from sklearn.model_selection import KFold \n",
    "from sklearn.model_selection import StratifiedKFold\n"
   ]
  },
  {
   "cell_type": "code",
   "execution_count": 67,
   "id": "a5b75738",
   "metadata": {},
   "outputs": [],
   "source": [
    "K_fold = StratifiedKFold(n_splits=10)"
   ]
  },
  {
   "cell_type": "code",
   "execution_count": 69,
   "id": "c3e17901",
   "metadata": {},
   "outputs": [
    {
     "name": "stdout",
     "output_type": "stream",
     "text": [
      "Fitting 10 folds for each of 3 candidates, totalling 30 fits\n"
     ]
    },
    {
     "data": {
      "text/plain": [
       "0.4852142857142857"
      ]
     },
     "execution_count": 69,
     "metadata": {},
     "output_type": "execute_result"
    }
   ],
   "source": [
    "# Linear Discriminant Analysis - Parameter Tuning\n",
    "LDA = LinearDiscriminantAnalysis()\n",
    "\n",
    "## Search grid for optimal parameters\n",
    "lda_param_grid = {\"solver\" : [\"svd\"],\n",
    "              \"tol\" : [0.0001,0.0002,0.0003]}\n",
    "\n",
    "\n",
    "gsLDA = GridSearchCV(LDA, param_grid = lda_param_grid, cv=K_fold,\n",
    "                     scoring=\"accuracy\", n_jobs= 4, verbose = 1)\n",
    "\n",
    "gsLDA.fit(X_train,y_train)\n",
    "LDA_best = gsLDA.best_estimator_\n",
    "\n",
    "# Best score\n",
    "gsLDA.best_score_"
   ]
  },
  {
   "cell_type": "code",
   "execution_count": 74,
   "id": "18b8ec19",
   "metadata": {},
   "outputs": [],
   "source": [
    "import numpy as np"
   ]
  },
  {
   "cell_type": "code",
   "execution_count": 75,
   "id": "36272a54",
   "metadata": {},
   "outputs": [
    {
     "name": "stdout",
     "output_type": "stream",
     "text": [
      "[0.47214286 0.45214286 0.45785714 0.46928571 0.47285714 0.47785714\n",
      " 0.48285714 0.45785714 0.45214286 0.47357143]\n"
     ]
    },
    {
     "data": {
      "text/plain": [
       "46.69"
      ]
     },
     "execution_count": 75,
     "metadata": {},
     "output_type": "execute_result"
    }
   ],
   "source": [
    "from sklearn.ensemble import GradientBoostingClassifier\n",
    "GBC_Model = GradientBoostingClassifier()\n",
    "\n",
    "scores = cross_val_score(GBC_Model, X_train, y_train, cv = K_fold,\n",
    "                       n_jobs = 4, scoring = 'accuracy')\n",
    "\n",
    "print(scores)\n",
    "round(np.mean(scores)*100, 2)"
   ]
  },
  {
   "cell_type": "code",
   "execution_count": 81,
   "id": "dd789692",
   "metadata": {},
   "outputs": [],
   "source": [
    "# CATEGORICAL FEATURES"
   ]
  },
  {
   "cell_type": "code",
   "execution_count": 82,
   "id": "ed55c849",
   "metadata": {},
   "outputs": [
    {
     "data": {
      "text/plain": [
       "Energy       float64\n",
       "Corr         float64\n",
       "Diss_sim     float64\n",
       "Homogen      float64\n",
       "Contrast     float64\n",
       "Energy2      float64\n",
       "Corr2        float64\n",
       "Diss_sim2    float64\n",
       "Homogen2     float64\n",
       "Contrast2    float64\n",
       "Energy3      float64\n",
       "Corr3        float64\n",
       "Diss_sim3    float64\n",
       "Homogen3     float64\n",
       "Contrast3    float64\n",
       "Energy4      float64\n",
       "Corr4        float64\n",
       "Diss_sim4    float64\n",
       "Homogen4     float64\n",
       "Contrast4    float64\n",
       "Energy5      float64\n",
       "Corr5        float64\n",
       "Diss_sim5    float64\n",
       "Homogen5     float64\n",
       "Contrast5    float64\n",
       "dtype: object"
      ]
     },
     "execution_count": 82,
     "metadata": {},
     "output_type": "execute_result"
    }
   ],
   "source": [
    "X.dtypes"
   ]
  },
  {
   "cell_type": "code",
   "execution_count": 84,
   "id": "d33ff140",
   "metadata": {},
   "outputs": [],
   "source": [
    "categorical_features_indices = np.where(X.dtypes != float)[0]"
   ]
  },
  {
   "cell_type": "code",
   "execution_count": 86,
   "id": "a5f61875",
   "metadata": {},
   "outputs": [],
   "source": [
    "from sklearn.model_selection import train_test_split\n",
    "\n",
    "X_train, X_validation, y_train, y_validation = train_test_split(X, y, train_size=0.75, random_state=42)\n",
    "\n"
   ]
  },
  {
   "cell_type": "code",
   "execution_count": 87,
   "id": "696d93e3",
   "metadata": {},
   "outputs": [],
   "source": [
    "from catboost import CatBoostClassifier, Pool, metrics, cv\n",
    "from sklearn.metrics import accuracy_score"
   ]
  },
  {
   "cell_type": "code",
   "execution_count": 88,
   "id": "5d1ebccf",
   "metadata": {},
   "outputs": [
    {
     "data": {
      "application/vnd.jupyter.widget-view+json": {
       "model_id": "5d7f0a647c4b470f81a1948167bd8e1a",
       "version_major": 2,
       "version_minor": 0
      },
      "text/plain": [
       "MetricVisualizer(layout=Layout(align_self='stretch', height='500px'))"
      ]
     },
     "metadata": {},
     "output_type": "display_data"
    }
   ],
   "source": [
    "model = CatBoostClassifier(\n",
    "    custom_loss =[metrics.Accuracy()],\n",
    "    random_seed=42,\n",
    "    logging_level='Silent'\n",
    ")\n",
    "\n",
    "model.fit(\n",
    "    X_train, y_train,\n",
    "    cat_features=categorical_features_indices,\n",
    "    eval_set=(X_validation, y_validation),\n",
    "#     logging_level='Verbose',  # you can uncomment this for text output\n",
    "    plot=True\n",
    ");"
   ]
  },
  {
   "cell_type": "code",
   "execution_count": 89,
   "id": "1e5fc66f",
   "metadata": {},
   "outputs": [
    {
     "data": {
      "application/vnd.jupyter.widget-view+json": {
       "model_id": "a913f0351f134b048d781034ba4b4d6f",
       "version_major": 2,
       "version_minor": 0
      },
      "text/plain": [
       "MetricVisualizer(layout=Layout(align_self='stretch', height='500px'))"
      ]
     },
     "metadata": {},
     "output_type": "display_data"
    },
    {
     "ename": "CatBoostError",
     "evalue": "C:/Program Files (x86)/Go Agent/pipelines/BuildMaster/catboost.git/catboost/private/libs/target/target_converter.cpp:379: Target with classes must contain only 2 unique values for binary classification",
     "output_type": "error",
     "traceback": [
      "\u001b[1;31m---------------------------------------------------------------------------\u001b[0m",
      "\u001b[1;31mCatBoostError\u001b[0m                             Traceback (most recent call last)",
      "Input \u001b[1;32mIn [89]\u001b[0m, in \u001b[0;36m<cell line: 7>\u001b[1;34m()\u001b[0m\n\u001b[0;32m      3\u001b[0m cv_params \u001b[38;5;241m=\u001b[39m model\u001b[38;5;241m.\u001b[39mget_params()\n\u001b[0;32m      4\u001b[0m cv_params\u001b[38;5;241m.\u001b[39mupdate({\n\u001b[0;32m      5\u001b[0m     \u001b[38;5;124m'\u001b[39m\u001b[38;5;124mloss_function\u001b[39m\u001b[38;5;124m'\u001b[39m: metrics\u001b[38;5;241m.\u001b[39mLogloss()\n\u001b[0;32m      6\u001b[0m })\n\u001b[1;32m----> 7\u001b[0m cv_data \u001b[38;5;241m=\u001b[39m \u001b[43mcv\u001b[49m\u001b[43m(\u001b[49m\n\u001b[0;32m      8\u001b[0m \u001b[43m    \u001b[49m\u001b[43mPool\u001b[49m\u001b[43m(\u001b[49m\u001b[43mX\u001b[49m\u001b[43m,\u001b[49m\u001b[43m \u001b[49m\u001b[43my\u001b[49m\u001b[43m,\u001b[49m\u001b[43m \u001b[49m\u001b[43mcat_features\u001b[49m\u001b[38;5;241;43m=\u001b[39;49m\u001b[43mcategorical_features_indices\u001b[49m\u001b[43m)\u001b[49m\u001b[43m,\u001b[49m\n\u001b[0;32m      9\u001b[0m \u001b[43m    \u001b[49m\u001b[43mcv_params\u001b[49m\u001b[43m,\u001b[49m\n\u001b[0;32m     10\u001b[0m \u001b[43m    \u001b[49m\u001b[43mplot\u001b[49m\u001b[38;5;241;43m=\u001b[39;49m\u001b[38;5;28;43;01mTrue\u001b[39;49;00m\n\u001b[0;32m     11\u001b[0m \u001b[43m)\u001b[49m\n",
      "File \u001b[1;32m~\\anaconda3\\lib\\site-packages\\catboost\\core.py:6501\u001b[0m, in \u001b[0;36mcv\u001b[1;34m(pool, params, dtrain, iterations, num_boost_round, fold_count, nfold, inverted, partition_random_seed, seed, shuffle, logging_level, stratified, as_pandas, metric_period, verbose, verbose_eval, plot, early_stopping_rounds, save_snapshot, snapshot_file, snapshot_interval, metric_update_interval, folds, type, return_models, log_cout, log_cerr)\u001b[0m\n\u001b[0;32m   6499\u001b[0m \u001b[38;5;28;01mwith\u001b[39;00m log_fixup(log_cout, log_cerr), plot_wrapper(plot, plot_dirs):\n\u001b[0;32m   6500\u001b[0m     \u001b[38;5;28;01mif\u001b[39;00m \u001b[38;5;129;01mnot\u001b[39;00m return_models:\n\u001b[1;32m-> 6501\u001b[0m         \u001b[38;5;28;01mreturn\u001b[39;00m \u001b[43m_cv\u001b[49m\u001b[43m(\u001b[49m\u001b[43mparams\u001b[49m\u001b[43m,\u001b[49m\u001b[43m \u001b[49m\u001b[43mpool\u001b[49m\u001b[43m,\u001b[49m\u001b[43m \u001b[49m\u001b[43mfold_count\u001b[49m\u001b[43m,\u001b[49m\u001b[43m \u001b[49m\u001b[43minverted\u001b[49m\u001b[43m,\u001b[49m\u001b[43m \u001b[49m\u001b[43mpartition_random_seed\u001b[49m\u001b[43m,\u001b[49m\u001b[43m \u001b[49m\u001b[43mshuffle\u001b[49m\u001b[43m,\u001b[49m\u001b[43m \u001b[49m\u001b[43mstratified\u001b[49m\u001b[43m,\u001b[49m\n\u001b[0;32m   6502\u001b[0m \u001b[43m                \u001b[49m\u001b[43mmetric_update_interval\u001b[49m\u001b[43m,\u001b[49m\u001b[43m \u001b[49m\u001b[43mas_pandas\u001b[49m\u001b[43m,\u001b[49m\u001b[43m \u001b[49m\u001b[43mfolds\u001b[49m\u001b[43m,\u001b[49m\u001b[43m \u001b[49m\u001b[38;5;28;43mtype\u001b[39;49m\u001b[43m,\u001b[49m\u001b[43m \u001b[49m\u001b[43mreturn_models\u001b[49m\u001b[43m)\u001b[49m\n\u001b[0;32m   6503\u001b[0m     \u001b[38;5;28;01melse\u001b[39;00m:\n\u001b[0;32m   6504\u001b[0m         results, cv_models \u001b[38;5;241m=\u001b[39m _cv(params, pool, fold_count, inverted, partition_random_seed, shuffle, stratified,\n\u001b[0;32m   6505\u001b[0m                                  metric_update_interval, as_pandas, folds, \u001b[38;5;28mtype\u001b[39m, return_models)\n",
      "File \u001b[1;32m_catboost.pyx:5451\u001b[0m, in \u001b[0;36m_catboost._cv\u001b[1;34m()\u001b[0m\n",
      "File \u001b[1;32m_catboost.pyx:5483\u001b[0m, in \u001b[0;36m_catboost._cv\u001b[1;34m()\u001b[0m\n",
      "\u001b[1;31mCatBoostError\u001b[0m: C:/Program Files (x86)/Go Agent/pipelines/BuildMaster/catboost.git/catboost/private/libs/target/target_converter.cpp:379: Target with classes must contain only 2 unique values for binary classification"
     ]
    }
   ],
   "source": [
    "# Model cross validation\n",
    "\n",
    "cv_params = model.get_params()\n",
    "cv_params.update({\n",
    "    'loss_function': metrics.Logloss()\n",
    "})\n",
    "cv_data = cv(\n",
    "    Pool(X, y, cat_features=categorical_features_indices),\n",
    "    cv_params,\n",
    "    plot=True\n",
    ")"
   ]
  },
  {
   "cell_type": "code",
   "execution_count": null,
   "id": "0122db26",
   "metadata": {},
   "outputs": [],
   "source": [
    "print('Best validation accuracy score: {:.2f}±{:.2f} on step {}'.format(\n",
    "    np.max(cv_data['test-Accuracy-mean']),\n",
    "    cv_data['test-Accuracy-std'][np.argmax(cv_data['test-Accuracy-mean'])],\n",
    "    np.argmax(cv_data['test-Accuracy-mean'])\n",
    "))"
   ]
  },
  {
   "cell_type": "code",
   "execution_count": null,
   "id": "6bccada8",
   "metadata": {},
   "outputs": [],
   "source": [
    "print('Precise validation accuracy score: {}'.format(np.max(cv_data['test-Accuracy-mean'])))"
   ]
  },
  {
   "cell_type": "code",
   "execution_count": null,
   "id": "87cb3dc1",
   "metadata": {},
   "outputs": [],
   "source": []
  }
 ],
 "metadata": {
  "kernelspec": {
   "display_name": "Python 3 (ipykernel)",
   "language": "python",
   "name": "python3"
  },
  "language_info": {
   "codemirror_mode": {
    "name": "ipython",
    "version": 3
   },
   "file_extension": ".py",
   "mimetype": "text/x-python",
   "name": "python",
   "nbconvert_exporter": "python",
   "pygments_lexer": "ipython3",
   "version": "3.9.12"
  }
 },
 "nbformat": 4,
 "nbformat_minor": 5
}
